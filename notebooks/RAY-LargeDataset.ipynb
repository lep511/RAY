{
 "cells": [
  {
   "cell_type": "code",
   "execution_count": null,
   "id": "e009c551",
   "metadata": {},
   "outputs": [],
   "source": [
    "#!pip install prefect-ray"
   ]
  },
  {
   "cell_type": "code",
   "execution_count": 1,
   "id": "ffabb527-9839-483a-92bb-d3c32dcb7937",
   "metadata": {},
   "outputs": [],
   "source": [
    "import ray\n",
    "from ray import tune\n",
    "import pandas as pd\n",
    "import warnings\n",
    "import math\n",
    "import time\n",
    "import os\n",
    "from typing import List\n",
    "\n",
    "# Suppress noisy requests warnings.\n",
    "warnings.filterwarnings(\"ignore\")\n",
    "os.environ[\"PYTHONWARNINGS\"] = \"ignore\""
   ]
  },
  {
   "cell_type": "code",
   "execution_count": 2,
   "id": "dc720b26-5e51-4c4d-af5c-7b5ece8d05bc",
   "metadata": {},
   "outputs": [
    {
     "name": "stderr",
     "output_type": "stream",
     "text": [
      "2022-12-14 19:48:29,292\tWARNING services.py:1732 -- WARNING: The object store is using /tmp instead of /dev/shm because /dev/shm has only 67100672 bytes available. This will harm performance! You may be able to free up space by deleting files in /dev/shm. If you are inside a Docker container, you can increase /dev/shm size by passing '--shm-size=8.10gb' to 'docker run' (or add it to the run_options list in a Ray cluster config). Make sure to set this to more than 30% of available RAM.\n",
      "2022-12-14 19:48:29,434\tINFO worker.py:1538 -- Started a local Ray instance.\n"
     ]
    },
    {
     "data": {
      "text/html": [
       "<div>\n",
       "    <div style=\"margin-left: 50px;display: flex;flex-direction: row;align-items: center\">\n",
       "        <h3 style=\"color: var(--jp-ui-font-color0)\">Ray</h3>\n",
       "        <svg version=\"1.1\" id=\"ray\" width=\"3em\" viewBox=\"0 0 144.5 144.6\" style=\"margin-left: 3em;margin-right: 3em\">\n",
       "            <g id=\"layer-1\">\n",
       "                <path fill=\"#00a2e9\" class=\"st0\" d=\"M97.3,77.2c-3.8-1.1-6.2,0.9-8.3,5.1c-3.5,6.8-9.9,9.9-17.4,9.6S58,88.1,54.8,81.2c-1.4-3-3-4-6.3-4.1\n",
       "                    c-5.6-0.1-9.9,0.1-13.1,6.4c-3.8,7.6-13.6,10.2-21.8,7.6C5.2,88.4-0.4,80.5,0,71.7c0.1-8.4,5.7-15.8,13.8-18.2\n",
       "                    c8.4-2.6,17.5,0.7,22.3,8c1.3,1.9,1.3,5.2,3.6,5.6c3.9,0.6,8,0.2,12,0.2c1.8,0,1.9-1.6,2.4-2.8c3.5-7.8,9.7-11.8,18-11.9\n",
       "                    c8.2-0.1,14.4,3.9,17.8,11.4c1.3,2.8,2.9,3.6,5.7,3.3c1-0.1,2,0.1,3,0c2.8-0.5,6.4,1.7,8.1-2.7s-2.3-5.5-4.1-7.5\n",
       "                    c-5.1-5.7-10.9-10.8-16.1-16.3C84,38,81.9,37.1,78,38.3C66.7,42,56.2,35.7,53,24.1C50.3,14,57.3,2.8,67.7,0.5\n",
       "                    C78.4-2,89,4.7,91.5,15.3c0.1,0.3,0.1,0.5,0.2,0.8c0.7,3.4,0.7,6.9-0.8,9.8c-1.7,3.2-0.8,5,1.5,7.2c6.7,6.5,13.3,13,19.8,19.7\n",
       "                    c1.8,1.8,3,2.1,5.5,1.2c9.1-3.4,17.9-0.6,23.4,7c4.8,6.9,4.6,16.1-0.4,22.9c-5.4,7.2-14.2,9.9-23.1,6.5c-2.3-0.9-3.5-0.6-5.1,1.1\n",
       "                    c-6.7,6.9-13.6,13.7-20.5,20.4c-1.8,1.8-2.5,3.2-1.4,5.9c3.5,8.7,0.3,18.6-7.7,23.6c-7.9,5-18.2,3.8-24.8-2.9\n",
       "                    c-6.4-6.4-7.4-16.2-2.5-24.3c4.9-7.8,14.5-11,23.1-7.8c3,1.1,4.7,0.5,6.9-1.7C91.7,98.4,98,92.3,104.2,86c1.6-1.6,4.1-2.7,2.6-6.2\n",
       "                    c-1.4-3.3-3.8-2.5-6.2-2.6C99.8,77.2,98.9,77.2,97.3,77.2z M72.1,29.7c5.5,0.1,9.9-4.3,10-9.8c0-0.1,0-0.2,0-0.3\n",
       "                    C81.8,14,77,9.8,71.5,10.2c-5,0.3-9,4.2-9.3,9.2c-0.2,5.5,4,10.1,9.5,10.3C71.8,29.7,72,29.7,72.1,29.7z M72.3,62.3\n",
       "                    c-5.4-0.1-9.9,4.2-10.1,9.7c0,0.2,0,0.3,0,0.5c0.2,5.4,4.5,9.7,9.9,10c5.1,0.1,9.9-4.7,10.1-9.8c0.2-5.5-4-10-9.5-10.3\n",
       "                    C72.6,62.3,72.4,62.3,72.3,62.3z M115,72.5c0.1,5.4,4.5,9.7,9.8,9.9c5.6-0.2,10-4.8,10-10.4c-0.2-5.4-4.6-9.7-10-9.7\n",
       "                    c-5.3-0.1-9.8,4.2-9.9,9.5C115,72.1,115,72.3,115,72.5z M19.5,62.3c-5.4,0.1-9.8,4.4-10,9.8c-0.1,5.1,5.2,10.4,10.2,10.3\n",
       "                    c5.6-0.2,10-4.9,9.8-10.5c-0.1-5.4-4.5-9.7-9.9-9.6C19.6,62.3,19.5,62.3,19.5,62.3z M71.8,134.6c5.9,0.2,10.3-3.9,10.4-9.6\n",
       "                    c0.5-5.5-3.6-10.4-9.1-10.8c-5.5-0.5-10.4,3.6-10.8,9.1c0,0.5,0,0.9,0,1.4c-0.2,5.3,4,9.8,9.3,10\n",
       "                    C71.6,134.6,71.7,134.6,71.8,134.6z\"/>\n",
       "            </g>\n",
       "        </svg>\n",
       "        <table>\n",
       "            <tr>\n",
       "                <td style=\"text-align: left\"><b>Python version:</b></td>\n",
       "                <td style=\"text-align: left\"><b>3.10.4</b></td>\n",
       "            </tr>\n",
       "            <tr>\n",
       "                <td style=\"text-align: left\"><b>Ray version:</b></td>\n",
       "                <td style=\"text-align: left\"><b> 2.2.0</b></td>\n",
       "            </tr>\n",
       "            \n",
       "        </table>\n",
       "    </div>\n",
       "</div>\n"
      ],
      "text/plain": [
       "RayContext(dashboard_url='', python_version='3.10.4', ray_version='2.2.0', ray_commit='b6af0887ee5f2e460202133791ad941a41f15beb', address_info={'node_ip_address': '172.16.5.4', 'raylet_ip_address': '172.16.5.4', 'redis_address': None, 'object_store_address': '/tmp/ray/session_2022-12-14_19-48-27_646061_20098/sockets/plasma_store', 'raylet_socket_name': '/tmp/ray/session_2022-12-14_19-48-27_646061_20098/sockets/raylet', 'webui_url': '', 'session_dir': '/tmp/ray/session_2022-12-14_19-48-27_646061_20098', 'metrics_export_port': 48991, 'gcs_address': '172.16.5.4:50911', 'address': '172.16.5.4:50911', 'dashboard_agent_listen_port': 52365, 'node_id': 'c0f8fd9362ae75c38d77899a911f41e090d0b8bce3dbcea4944be2e0'})"
      ]
     },
     "execution_count": 2,
     "metadata": {},
     "output_type": "execute_result"
    }
   ],
   "source": [
    "ray.init()"
   ]
  },
  {
   "cell_type": "code",
   "execution_count": null,
   "id": "e17718d3",
   "metadata": {},
   "outputs": [],
   "source": [
    "import boto3\n",
    "s3 = boto3.resource('s3')\n",
    "# Download the file from S3.\n",
    "bucket = 'nyc-tlc'\n",
    "s3.Bucket(bucket).download_file('csv_backup/yellow_tripdata_2011-04.csv', '../data/yellow_tripdata_2011-04.csv')\n",
    "s3.Bucket(bucket).download_file('csv_backup/yellow_tripdata_2009-12.csv', '../data/yellow_tripdata_2009-12.csv')\n",
    "s3.Bucket(bucket).download_file('csv_backup/yellow_tripdata_2010-06.csv', '../data/yellow_tripdata_2010-06.csv')\n",
    "s3.Bucket(bucket).download_file('csv_backup/yellow_tripdata_2010-07.csv', '../data/yellow_tripdata_2010-07.csv')"
   ]
  },
  {
   "cell_type": "code",
   "execution_count": null,
   "id": "9c877a4d",
   "metadata": {},
   "outputs": [],
   "source": [
    "direct = '../data/'\n",
    "list_files = os.listdir(direct)\n",
    "list_filtered = []\n",
    "for file in list_files:\n",
    "    if file.startswith('yellow_tripdata'):\n",
    "        ds_csv = ray.data.read_csv(os.path.abspath('../data/' + file))\n",
    "        ds_csv.repartition(12).write_parquet(f'../data/parquet/{file[:-4]}')\n",
    "        del ds_csv"
   ]
  },
  {
   "cell_type": "code",
   "execution_count": 4,
   "id": "b3e05199",
   "metadata": {},
   "outputs": [
    {
     "name": "stderr",
     "output_type": "stream",
     "text": [
      "Metadata Fetch Progress:   0%|          | 0/8 [00:00<?, ?it/s]\n",
      "Metadata Fetch Progress:  12%|█▎        | 1/8 [00:00<00:02,  2.47it/s]\n",
      "Metadata Fetch Progress: 100%|██████████| 8/8 [00:00<00:00, 14.21it/s]\n",
      "Parquet Files Sample:   0%|          | 0/2 [00:00<?, ?it/s]\n",
      "Parquet Files Sample: 100%|██████████| 2/2 [00:00<00:00,  8.08it/s]\n"
     ]
    }
   ],
   "source": [
    "ds = ray.data.read_parquet('../data/parquet/')"
   ]
  },
  {
   "cell_type": "code",
   "execution_count": 5,
   "id": "2b4ee7b4-a7f9-44f9-a7bb-f4bde4cb26b7",
   "metadata": {},
   "outputs": [
    {
     "name": "stderr",
     "output_type": "stream",
     "text": [
      "Read: 100%|██████████| 48/48 [00:04<00:00, 11.22it/s]\n",
      "Repartition:   0%|          | 0/10 [00:00<?, ?it/s]\u001b[2m\u001b[36m(raylet)\u001b[0m Spilled 2266 MiB, 35 objects, write throughput 360 MiB/s. Set RAY_verbose_spill_logs=0 to disable this message.\n",
      "\u001b[2m\u001b[36m(raylet)\u001b[0m Spilled 7040 MiB, 113 objects, write throughput 602 MiB/s.\n",
      "Repartition:  70%|███████   | 7/10 [00:17<00:07,  2.47s/it]\u001b[2m\u001b[36m(raylet)\u001b[0m Spilled 9395 MiB, 118 objects, write throughput 465 MiB/s.\n",
      "Repartition: 100%|██████████| 10/10 [00:23<00:00,  2.35s/it]\n"
     ]
    }
   ],
   "source": [
    "# Create 10 blocks for parallelism\n",
    "ds = ds.repartition(10)"
   ]
  },
  {
   "cell_type": "code",
   "execution_count": 6,
   "id": "e7b33fd1",
   "metadata": {},
   "outputs": [
    {
     "name": "stdout",
     "output_type": "stream",
     "text": [
      "Total rows: 44,927,917\n"
     ]
    }
   ],
   "source": [
    "total_rows = ds.count()\n",
    "print('Total rows: {:,}'.format(total_rows))"
   ]
  },
  {
   "cell_type": "code",
   "execution_count": 7,
   "id": "4f5ad03a-c5e4-426b-ace3-cb2be9fd1883",
   "metadata": {},
   "outputs": [
    {
     "data": {
      "text/html": [
       "<div>\n",
       "<style scoped>\n",
       "    .dataframe tbody tr th:only-of-type {\n",
       "        vertical-align: middle;\n",
       "    }\n",
       "\n",
       "    .dataframe tbody tr th {\n",
       "        vertical-align: top;\n",
       "    }\n",
       "\n",
       "    .dataframe thead th {\n",
       "        text-align: right;\n",
       "    }\n",
       "</style>\n",
       "<table border=\"1\" class=\"dataframe\">\n",
       "  <thead>\n",
       "    <tr style=\"text-align: right;\">\n",
       "      <th></th>\n",
       "      <th>vendor_name</th>\n",
       "      <th>Trip_Pickup_DateTime</th>\n",
       "      <th>Trip_Dropoff_DateTime</th>\n",
       "      <th>Passenger_Count</th>\n",
       "      <th>Trip_Distance</th>\n",
       "      <th>Start_Lon</th>\n",
       "      <th>Start_Lat</th>\n",
       "      <th>Rate_Code</th>\n",
       "      <th>store_and_forward</th>\n",
       "      <th>End_Lon</th>\n",
       "      <th>End_Lat</th>\n",
       "      <th>Payment_Type</th>\n",
       "      <th>Fare_Amt</th>\n",
       "      <th>surcharge</th>\n",
       "      <th>mta_tax</th>\n",
       "      <th>Tip_Amt</th>\n",
       "      <th>Tolls_Amt</th>\n",
       "      <th>Total_Amt</th>\n",
       "    </tr>\n",
       "  </thead>\n",
       "  <tbody>\n",
       "    <tr>\n",
       "      <th>0</th>\n",
       "      <td>VTS</td>\n",
       "      <td>2009-12-17 07:35:00</td>\n",
       "      <td>2009-12-17 07:40:00</td>\n",
       "      <td>1</td>\n",
       "      <td>0.11</td>\n",
       "      <td>-73.987928</td>\n",
       "      <td>40.737885</td>\n",
       "      <td>None</td>\n",
       "      <td>NaN</td>\n",
       "      <td>-73.990335</td>\n",
       "      <td>40.748450</td>\n",
       "      <td>Credit</td>\n",
       "      <td>4.9</td>\n",
       "      <td>0.0</td>\n",
       "      <td>0.5</td>\n",
       "      <td>1.0</td>\n",
       "      <td>0.0</td>\n",
       "      <td>6.4</td>\n",
       "    </tr>\n",
       "    <tr>\n",
       "      <th>1</th>\n",
       "      <td>VTS</td>\n",
       "      <td>2009-12-21 14:19:00</td>\n",
       "      <td>2009-12-21 14:24:00</td>\n",
       "      <td>1</td>\n",
       "      <td>1.07</td>\n",
       "      <td>-73.956008</td>\n",
       "      <td>40.779558</td>\n",
       "      <td>None</td>\n",
       "      <td>NaN</td>\n",
       "      <td>-73.967303</td>\n",
       "      <td>40.787833</td>\n",
       "      <td>CASH</td>\n",
       "      <td>4.9</td>\n",
       "      <td>0.0</td>\n",
       "      <td>0.5</td>\n",
       "      <td>0.0</td>\n",
       "      <td>0.0</td>\n",
       "      <td>5.4</td>\n",
       "    </tr>\n",
       "    <tr>\n",
       "      <th>2</th>\n",
       "      <td>VTS</td>\n",
       "      <td>2009-12-18 03:09:00</td>\n",
       "      <td>2009-12-18 03:34:00</td>\n",
       "      <td>1</td>\n",
       "      <td>8.98</td>\n",
       "      <td>-73.955745</td>\n",
       "      <td>40.689503</td>\n",
       "      <td>None</td>\n",
       "      <td>NaN</td>\n",
       "      <td>-73.937730</td>\n",
       "      <td>40.737463</td>\n",
       "      <td>CASH</td>\n",
       "      <td>23.7</td>\n",
       "      <td>0.5</td>\n",
       "      <td>0.5</td>\n",
       "      <td>0.0</td>\n",
       "      <td>0.0</td>\n",
       "      <td>24.7</td>\n",
       "    </tr>\n",
       "    <tr>\n",
       "      <th>3</th>\n",
       "      <td>VTS</td>\n",
       "      <td>2009-12-14 21:24:00</td>\n",
       "      <td>2009-12-14 21:33:00</td>\n",
       "      <td>2</td>\n",
       "      <td>1.66</td>\n",
       "      <td>-73.983985</td>\n",
       "      <td>40.754645</td>\n",
       "      <td>None</td>\n",
       "      <td>NaN</td>\n",
       "      <td>-73.986195</td>\n",
       "      <td>40.737610</td>\n",
       "      <td>Credit</td>\n",
       "      <td>6.9</td>\n",
       "      <td>0.5</td>\n",
       "      <td>0.5</td>\n",
       "      <td>3.0</td>\n",
       "      <td>0.0</td>\n",
       "      <td>10.9</td>\n",
       "    </tr>\n",
       "    <tr>\n",
       "      <th>4</th>\n",
       "      <td>VTS</td>\n",
       "      <td>2009-12-18 08:17:00</td>\n",
       "      <td>2009-12-18 08:29:00</td>\n",
       "      <td>1</td>\n",
       "      <td>1.55</td>\n",
       "      <td>-73.959132</td>\n",
       "      <td>40.769265</td>\n",
       "      <td>None</td>\n",
       "      <td>NaN</td>\n",
       "      <td>-73.976267</td>\n",
       "      <td>40.760615</td>\n",
       "      <td>CASH</td>\n",
       "      <td>7.7</td>\n",
       "      <td>0.0</td>\n",
       "      <td>0.5</td>\n",
       "      <td>0.0</td>\n",
       "      <td>0.0</td>\n",
       "      <td>8.2</td>\n",
       "    </tr>\n",
       "  </tbody>\n",
       "</table>\n",
       "</div>"
      ],
      "text/plain": [
       "  vendor_name Trip_Pickup_DateTime Trip_Dropoff_DateTime  Passenger_Count  \\\n",
       "0         VTS  2009-12-17 07:35:00   2009-12-17 07:40:00                1   \n",
       "1         VTS  2009-12-21 14:19:00   2009-12-21 14:24:00                1   \n",
       "2         VTS  2009-12-18 03:09:00   2009-12-18 03:34:00                1   \n",
       "3         VTS  2009-12-14 21:24:00   2009-12-14 21:33:00                2   \n",
       "4         VTS  2009-12-18 08:17:00   2009-12-18 08:29:00                1   \n",
       "\n",
       "   Trip_Distance  Start_Lon  Start_Lat Rate_Code  store_and_forward  \\\n",
       "0           0.11 -73.987928  40.737885      None                NaN   \n",
       "1           1.07 -73.956008  40.779558      None                NaN   \n",
       "2           8.98 -73.955745  40.689503      None                NaN   \n",
       "3           1.66 -73.983985  40.754645      None                NaN   \n",
       "4           1.55 -73.959132  40.769265      None                NaN   \n",
       "\n",
       "     End_Lon    End_Lat Payment_Type  Fare_Amt  surcharge  mta_tax  Tip_Amt  \\\n",
       "0 -73.990335  40.748450       Credit       4.9        0.0      0.5      1.0   \n",
       "1 -73.967303  40.787833         CASH       4.9        0.0      0.5      0.0   \n",
       "2 -73.937730  40.737463         CASH      23.7        0.5      0.5      0.0   \n",
       "3 -73.986195  40.737610       Credit       6.9        0.5      0.5      3.0   \n",
       "4 -73.976267  40.760615         CASH       7.7        0.0      0.5      0.0   \n",
       "\n",
       "   Tolls_Amt  Total_Amt  \n",
       "0        0.0        6.4  \n",
       "1        0.0        5.4  \n",
       "2        0.0       24.7  \n",
       "3        0.0       10.9  \n",
       "4        0.0        8.2  "
      ]
     },
     "execution_count": 7,
     "metadata": {},
     "output_type": "execute_result"
    }
   ],
   "source": [
    "ds.limit(5).to_pandas()"
   ]
  },
  {
   "cell_type": "code",
   "execution_count": 44,
   "id": "fbaf5477-b3f6-48c9-b976-caa1a4054021",
   "metadata": {},
   "outputs": [
    {
     "name": "stderr",
     "output_type": "stream",
     "text": [
      "Map_Batches: 100%|██████████| 10/10 [00:07<00:00,  1.31it/s]\n"
     ]
    }
   ],
   "source": [
    "def transform_batch(df: pd.DataFrame) -> pd.DataFrame:\n",
    "    return df[(df[\"Trip_Distance\"] > 2) & (df[\"Passenger_Count\"] > 2)]\n",
    "\n",
    "transformed_ds = ds.map_batches(transform_batch)"
   ]
  },
  {
   "cell_type": "code",
   "execution_count": 45,
   "id": "8c62fa55-046a-4eb2-ac4a-a665c2b0bdf9",
   "metadata": {},
   "outputs": [
    {
     "data": {
      "text/html": [
       "<div>\n",
       "<style scoped>\n",
       "    .dataframe tbody tr th:only-of-type {\n",
       "        vertical-align: middle;\n",
       "    }\n",
       "\n",
       "    .dataframe tbody tr th {\n",
       "        vertical-align: top;\n",
       "    }\n",
       "\n",
       "    .dataframe thead th {\n",
       "        text-align: right;\n",
       "    }\n",
       "</style>\n",
       "<table border=\"1\" class=\"dataframe\">\n",
       "  <thead>\n",
       "    <tr style=\"text-align: right;\">\n",
       "      <th></th>\n",
       "      <th>vendor_name</th>\n",
       "      <th>Trip_Pickup_DateTime</th>\n",
       "      <th>Trip_Dropoff_DateTime</th>\n",
       "      <th>Passenger_Count</th>\n",
       "      <th>Trip_Distance</th>\n",
       "      <th>Start_Lon</th>\n",
       "      <th>Start_Lat</th>\n",
       "      <th>Rate_Code</th>\n",
       "      <th>store_and_forward</th>\n",
       "      <th>End_Lon</th>\n",
       "      <th>End_Lat</th>\n",
       "      <th>Payment_Type</th>\n",
       "      <th>Fare_Amt</th>\n",
       "      <th>surcharge</th>\n",
       "      <th>mta_tax</th>\n",
       "      <th>Tip_Amt</th>\n",
       "      <th>Tolls_Amt</th>\n",
       "      <th>Total_Amt</th>\n",
       "    </tr>\n",
       "  </thead>\n",
       "  <tbody>\n",
       "    <tr>\n",
       "      <th>0</th>\n",
       "      <td>VTS</td>\n",
       "      <td>2009-12-21 12:16:00</td>\n",
       "      <td>2009-12-21 12:52:00</td>\n",
       "      <td>3</td>\n",
       "      <td>16.57</td>\n",
       "      <td>-73.790967</td>\n",
       "      <td>40.645922</td>\n",
       "      <td>None</td>\n",
       "      <td>NaN</td>\n",
       "      <td>-73.971593</td>\n",
       "      <td>40.752568</td>\n",
       "      <td>Credit</td>\n",
       "      <td>45.0</td>\n",
       "      <td>0.0</td>\n",
       "      <td>0.5</td>\n",
       "      <td>7.0</td>\n",
       "      <td>4.57</td>\n",
       "      <td>57.07</td>\n",
       "    </tr>\n",
       "    <tr>\n",
       "      <th>1</th>\n",
       "      <td>VTS</td>\n",
       "      <td>2009-12-16 01:31:00</td>\n",
       "      <td>2009-12-16 01:47:00</td>\n",
       "      <td>5</td>\n",
       "      <td>5.03</td>\n",
       "      <td>-74.003327</td>\n",
       "      <td>40.751415</td>\n",
       "      <td>None</td>\n",
       "      <td>NaN</td>\n",
       "      <td>-73.990005</td>\n",
       "      <td>40.690455</td>\n",
       "      <td>Credit</td>\n",
       "      <td>13.7</td>\n",
       "      <td>0.5</td>\n",
       "      <td>0.5</td>\n",
       "      <td>3.0</td>\n",
       "      <td>0.00</td>\n",
       "      <td>17.70</td>\n",
       "    </tr>\n",
       "    <tr>\n",
       "      <th>2</th>\n",
       "      <td>VTS</td>\n",
       "      <td>2009-12-20 19:57:00</td>\n",
       "      <td>2009-12-20 20:13:00</td>\n",
       "      <td>5</td>\n",
       "      <td>3.22</td>\n",
       "      <td>-73.994107</td>\n",
       "      <td>40.751255</td>\n",
       "      <td>None</td>\n",
       "      <td>NaN</td>\n",
       "      <td>-73.970408</td>\n",
       "      <td>40.789250</td>\n",
       "      <td>Credit</td>\n",
       "      <td>10.9</td>\n",
       "      <td>0.0</td>\n",
       "      <td>0.5</td>\n",
       "      <td>3.0</td>\n",
       "      <td>0.00</td>\n",
       "      <td>14.40</td>\n",
       "    </tr>\n",
       "    <tr>\n",
       "      <th>3</th>\n",
       "      <td>VTS</td>\n",
       "      <td>2009-12-14 22:55:00</td>\n",
       "      <td>2009-12-14 23:04:00</td>\n",
       "      <td>5</td>\n",
       "      <td>2.24</td>\n",
       "      <td>-73.991612</td>\n",
       "      <td>40.759822</td>\n",
       "      <td>None</td>\n",
       "      <td>NaN</td>\n",
       "      <td>-74.003780</td>\n",
       "      <td>40.737545</td>\n",
       "      <td>CASH</td>\n",
       "      <td>7.7</td>\n",
       "      <td>0.5</td>\n",
       "      <td>0.5</td>\n",
       "      <td>0.0</td>\n",
       "      <td>0.00</td>\n",
       "      <td>8.70</td>\n",
       "    </tr>\n",
       "    <tr>\n",
       "      <th>4</th>\n",
       "      <td>VTS</td>\n",
       "      <td>2009-12-21 08:26:00</td>\n",
       "      <td>2009-12-21 09:07:00</td>\n",
       "      <td>5</td>\n",
       "      <td>4.49</td>\n",
       "      <td>-73.974723</td>\n",
       "      <td>40.792132</td>\n",
       "      <td>None</td>\n",
       "      <td>NaN</td>\n",
       "      <td>-73.977962</td>\n",
       "      <td>40.748085</td>\n",
       "      <td>CASH</td>\n",
       "      <td>21.7</td>\n",
       "      <td>0.0</td>\n",
       "      <td>0.5</td>\n",
       "      <td>0.0</td>\n",
       "      <td>0.00</td>\n",
       "      <td>22.20</td>\n",
       "    </tr>\n",
       "    <tr>\n",
       "      <th>5</th>\n",
       "      <td>VTS</td>\n",
       "      <td>2009-12-21 05:40:00</td>\n",
       "      <td>2009-12-21 05:45:00</td>\n",
       "      <td>5</td>\n",
       "      <td>2.17</td>\n",
       "      <td>-73.971808</td>\n",
       "      <td>40.764552</td>\n",
       "      <td>None</td>\n",
       "      <td>NaN</td>\n",
       "      <td>-73.992482</td>\n",
       "      <td>40.740508</td>\n",
       "      <td>CASH</td>\n",
       "      <td>6.9</td>\n",
       "      <td>0.5</td>\n",
       "      <td>0.5</td>\n",
       "      <td>0.0</td>\n",
       "      <td>0.00</td>\n",
       "      <td>7.90</td>\n",
       "    </tr>\n",
       "    <tr>\n",
       "      <th>6</th>\n",
       "      <td>VTS</td>\n",
       "      <td>2009-12-17 14:17:00</td>\n",
       "      <td>2009-12-17 15:19:00</td>\n",
       "      <td>3</td>\n",
       "      <td>17.74</td>\n",
       "      <td>-73.986025</td>\n",
       "      <td>40.762557</td>\n",
       "      <td>None</td>\n",
       "      <td>NaN</td>\n",
       "      <td>-73.789580</td>\n",
       "      <td>40.642812</td>\n",
       "      <td>CASH</td>\n",
       "      <td>45.0</td>\n",
       "      <td>0.0</td>\n",
       "      <td>0.5</td>\n",
       "      <td>0.0</td>\n",
       "      <td>4.57</td>\n",
       "      <td>50.07</td>\n",
       "    </tr>\n",
       "    <tr>\n",
       "      <th>7</th>\n",
       "      <td>VTS</td>\n",
       "      <td>2009-12-14 20:21:00</td>\n",
       "      <td>2009-12-14 20:34:00</td>\n",
       "      <td>5</td>\n",
       "      <td>2.09</td>\n",
       "      <td>-73.965510</td>\n",
       "      <td>40.768725</td>\n",
       "      <td>None</td>\n",
       "      <td>NaN</td>\n",
       "      <td>-73.972115</td>\n",
       "      <td>40.746033</td>\n",
       "      <td>CASH</td>\n",
       "      <td>8.9</td>\n",
       "      <td>0.5</td>\n",
       "      <td>0.5</td>\n",
       "      <td>0.0</td>\n",
       "      <td>0.00</td>\n",
       "      <td>9.90</td>\n",
       "    </tr>\n",
       "    <tr>\n",
       "      <th>8</th>\n",
       "      <td>VTS</td>\n",
       "      <td>2009-12-21 07:32:00</td>\n",
       "      <td>2009-12-21 08:00:00</td>\n",
       "      <td>3</td>\n",
       "      <td>13.32</td>\n",
       "      <td>-74.015207</td>\n",
       "      <td>40.709402</td>\n",
       "      <td>None</td>\n",
       "      <td>NaN</td>\n",
       "      <td>-73.873348</td>\n",
       "      <td>40.774312</td>\n",
       "      <td>CASH</td>\n",
       "      <td>31.3</td>\n",
       "      <td>0.0</td>\n",
       "      <td>0.5</td>\n",
       "      <td>0.0</td>\n",
       "      <td>0.00</td>\n",
       "      <td>31.80</td>\n",
       "    </tr>\n",
       "    <tr>\n",
       "      <th>9</th>\n",
       "      <td>VTS</td>\n",
       "      <td>2009-12-26 18:04:00</td>\n",
       "      <td>2009-12-26 18:18:00</td>\n",
       "      <td>5</td>\n",
       "      <td>4.26</td>\n",
       "      <td>-73.995898</td>\n",
       "      <td>40.738567</td>\n",
       "      <td>None</td>\n",
       "      <td>NaN</td>\n",
       "      <td>-73.977603</td>\n",
       "      <td>40.787870</td>\n",
       "      <td>CASH</td>\n",
       "      <td>12.1</td>\n",
       "      <td>0.0</td>\n",
       "      <td>0.5</td>\n",
       "      <td>0.0</td>\n",
       "      <td>0.00</td>\n",
       "      <td>12.60</td>\n",
       "    </tr>\n",
       "  </tbody>\n",
       "</table>\n",
       "</div>"
      ],
      "text/plain": [
       "  vendor_name Trip_Pickup_DateTime Trip_Dropoff_DateTime  Passenger_Count  \\\n",
       "0         VTS  2009-12-21 12:16:00   2009-12-21 12:52:00                3   \n",
       "1         VTS  2009-12-16 01:31:00   2009-12-16 01:47:00                5   \n",
       "2         VTS  2009-12-20 19:57:00   2009-12-20 20:13:00                5   \n",
       "3         VTS  2009-12-14 22:55:00   2009-12-14 23:04:00                5   \n",
       "4         VTS  2009-12-21 08:26:00   2009-12-21 09:07:00                5   \n",
       "5         VTS  2009-12-21 05:40:00   2009-12-21 05:45:00                5   \n",
       "6         VTS  2009-12-17 14:17:00   2009-12-17 15:19:00                3   \n",
       "7         VTS  2009-12-14 20:21:00   2009-12-14 20:34:00                5   \n",
       "8         VTS  2009-12-21 07:32:00   2009-12-21 08:00:00                3   \n",
       "9         VTS  2009-12-26 18:04:00   2009-12-26 18:18:00                5   \n",
       "\n",
       "   Trip_Distance  Start_Lon  Start_Lat Rate_Code  store_and_forward  \\\n",
       "0          16.57 -73.790967  40.645922      None                NaN   \n",
       "1           5.03 -74.003327  40.751415      None                NaN   \n",
       "2           3.22 -73.994107  40.751255      None                NaN   \n",
       "3           2.24 -73.991612  40.759822      None                NaN   \n",
       "4           4.49 -73.974723  40.792132      None                NaN   \n",
       "5           2.17 -73.971808  40.764552      None                NaN   \n",
       "6          17.74 -73.986025  40.762557      None                NaN   \n",
       "7           2.09 -73.965510  40.768725      None                NaN   \n",
       "8          13.32 -74.015207  40.709402      None                NaN   \n",
       "9           4.26 -73.995898  40.738567      None                NaN   \n",
       "\n",
       "     End_Lon    End_Lat Payment_Type  Fare_Amt  surcharge  mta_tax  Tip_Amt  \\\n",
       "0 -73.971593  40.752568       Credit      45.0        0.0      0.5      7.0   \n",
       "1 -73.990005  40.690455       Credit      13.7        0.5      0.5      3.0   \n",
       "2 -73.970408  40.789250       Credit      10.9        0.0      0.5      3.0   \n",
       "3 -74.003780  40.737545         CASH       7.7        0.5      0.5      0.0   \n",
       "4 -73.977962  40.748085         CASH      21.7        0.0      0.5      0.0   \n",
       "5 -73.992482  40.740508         CASH       6.9        0.5      0.5      0.0   \n",
       "6 -73.789580  40.642812         CASH      45.0        0.0      0.5      0.0   \n",
       "7 -73.972115  40.746033         CASH       8.9        0.5      0.5      0.0   \n",
       "8 -73.873348  40.774312         CASH      31.3        0.0      0.5      0.0   \n",
       "9 -73.977603  40.787870         CASH      12.1        0.0      0.5      0.0   \n",
       "\n",
       "   Tolls_Amt  Total_Amt  \n",
       "0       4.57      57.07  \n",
       "1       0.00      17.70  \n",
       "2       0.00      14.40  \n",
       "3       0.00       8.70  \n",
       "4       0.00      22.20  \n",
       "5       0.00       7.90  \n",
       "6       4.57      50.07  \n",
       "7       0.00       9.90  \n",
       "8       0.00      31.80  \n",
       "9       0.00      12.60  "
      ]
     },
     "execution_count": 45,
     "metadata": {},
     "output_type": "execute_result"
    }
   ],
   "source": [
    "transformed_ds.limit(10).to_pandas()"
   ]
  },
  {
   "cell_type": "code",
   "execution_count": 47,
   "id": "f523d5f2-806b-4a83-a71e-a03c649d2307",
   "metadata": {},
   "outputs": [
    {
     "name": "stdout",
     "output_type": "stream",
     "text": [
      "Total rows: 1,008,808\n"
     ]
    }
   ],
   "source": [
    "total_rows = transformed_ds.count()\n",
    "print('Total rows: {:,}'.format(total_rows))"
   ]
  },
  {
   "cell_type": "code",
   "execution_count": 8,
   "id": "4c48cb02",
   "metadata": {},
   "outputs": [
    {
     "name": "stdout",
     "output_type": "stream",
     "text": [
      "Total size: 5.52 GB\n"
     ]
    }
   ],
   "source": [
    "def convert_size(size_bytes):\n",
    "   size_name = (\"B\", \"KB\", \"MB\", \"GB\", \"TB\", \"PB\", \"EB\", \"ZB\", \"YB\")\n",
    "   i = int(math.floor(math.log(size_bytes, 1024)))\n",
    "   p = math.pow(1024, i)\n",
    "   s = round(size_bytes / p, 2)\n",
    "   return \"%s %s\" % (s, size_name[i])\n",
    "\n",
    "total_bytes = ds.size_bytes()\n",
    "print(\"Total size: {}\".format(convert_size(total_bytes)))"
   ]
  },
  {
   "cell_type": "code",
   "execution_count": 12,
   "id": "19d70af8",
   "metadata": {},
   "outputs": [
    {
     "name": "stderr",
     "output_type": "stream",
     "text": [
      "Shuffle Map: 100%|██████████| 10/10 [00:00<00:00, 139.50it/s]\n",
      "Shuffle Reduce: 100%|██████████| 1/1 [00:00<00:00, 118.20it/s]\n"
     ]
    },
    {
     "data": {
      "text/plain": [
       "ArrowRow({'max(Trip_Distance)': 50.0,\n",
       "          'max(Tip_Amt)': 100.0,\n",
       "          'max(Passenger_Count)': 208})"
      ]
     },
     "execution_count": 12,
     "metadata": {},
     "output_type": "execute_result"
    }
   ],
   "source": [
    "# What's the longets trip distance, largest tip amount, and most number of passengers?\n",
    "ds.max([\"Trip_Distance\", \"Tip_Amt\", \"Passenger_Count\"])"
   ]
  },
  {
   "cell_type": "code",
   "execution_count": 13,
   "id": "5629b841",
   "metadata": {},
   "outputs": [],
   "source": [
    "@ray.remote\n",
    "class Worker:\n",
    "    def __init__(self, rank: int):\n",
    "        pass\n",
    "\n",
    "    def train(self, shard) -> int:\n",
    "        for batch in shard.iter_batches(batch_size=256):\n",
    "            pass\n",
    "        return shard.count()"
   ]
  },
  {
   "cell_type": "code",
   "execution_count": 14,
   "id": "0edbc7a4",
   "metadata": {},
   "outputs": [],
   "source": [
    "workers = [Worker.remote(i) for i in range(4)]\n",
    "shards = ds.split(n=4, locality_hints=workers)"
   ]
  },
  {
   "cell_type": "code",
   "execution_count": 16,
   "id": "affd08ae",
   "metadata": {},
   "outputs": [
    {
     "data": {
      "text/plain": [
       "[13478376, 13478375, 8985583, 8985583]"
      ]
     },
     "execution_count": 16,
     "metadata": {},
     "output_type": "execute_result"
    }
   ],
   "source": [
    "ray.get([w.train.remote(s) for w, s in zip(workers, shards)])"
   ]
  },
  {
   "cell_type": "code",
   "execution_count": 29,
   "id": "ab26f447-2ead-4b7f-aac4-11cd716914f1",
   "metadata": {},
   "outputs": [],
   "source": [
    "@ray.remote\n",
    "class Worker:\n",
    "    pass\n",
    "\n",
    "# Explicitly stop\n",
    "ray.shutdown()\n",
    "assert not ray.is_initialized()"
   ]
  },
  {
   "cell_type": "code",
   "execution_count": 31,
   "id": "0633a19b",
   "metadata": {},
   "outputs": [
    {
     "name": "stderr",
     "output_type": "stream",
     "text": [
      "2022-12-14 19:23:48,925\tWARNING services.py:1732 -- WARNING: The object store is using /tmp instead of /dev/shm because /dev/shm has only 67096576 bytes available. This will harm performance! You may be able to free up space by deleting files in /dev/shm. If you are inside a Docker container, you can increase /dev/shm size by passing '--shm-size=8.18gb' to 'docker run' (or add it to the run_options list in a Ray cluster config). Make sure to set this to more than 30% of available RAM.\n",
      "2022-12-14 19:23:49,074\tINFO worker.py:1538 -- Started a local Ray instance.\n"
     ]
    },
    {
     "data": {
      "text/html": [
       "<div>\n",
       "    <div style=\"margin-left: 50px;display: flex;flex-direction: row;align-items: center\">\n",
       "        <h3 style=\"color: var(--jp-ui-font-color0)\">Ray</h3>\n",
       "        <svg version=\"1.1\" id=\"ray\" width=\"3em\" viewBox=\"0 0 144.5 144.6\" style=\"margin-left: 3em;margin-right: 3em\">\n",
       "            <g id=\"layer-1\">\n",
       "                <path fill=\"#00a2e9\" class=\"st0\" d=\"M97.3,77.2c-3.8-1.1-6.2,0.9-8.3,5.1c-3.5,6.8-9.9,9.9-17.4,9.6S58,88.1,54.8,81.2c-1.4-3-3-4-6.3-4.1\n",
       "                    c-5.6-0.1-9.9,0.1-13.1,6.4c-3.8,7.6-13.6,10.2-21.8,7.6C5.2,88.4-0.4,80.5,0,71.7c0.1-8.4,5.7-15.8,13.8-18.2\n",
       "                    c8.4-2.6,17.5,0.7,22.3,8c1.3,1.9,1.3,5.2,3.6,5.6c3.9,0.6,8,0.2,12,0.2c1.8,0,1.9-1.6,2.4-2.8c3.5-7.8,9.7-11.8,18-11.9\n",
       "                    c8.2-0.1,14.4,3.9,17.8,11.4c1.3,2.8,2.9,3.6,5.7,3.3c1-0.1,2,0.1,3,0c2.8-0.5,6.4,1.7,8.1-2.7s-2.3-5.5-4.1-7.5\n",
       "                    c-5.1-5.7-10.9-10.8-16.1-16.3C84,38,81.9,37.1,78,38.3C66.7,42,56.2,35.7,53,24.1C50.3,14,57.3,2.8,67.7,0.5\n",
       "                    C78.4-2,89,4.7,91.5,15.3c0.1,0.3,0.1,0.5,0.2,0.8c0.7,3.4,0.7,6.9-0.8,9.8c-1.7,3.2-0.8,5,1.5,7.2c6.7,6.5,13.3,13,19.8,19.7\n",
       "                    c1.8,1.8,3,2.1,5.5,1.2c9.1-3.4,17.9-0.6,23.4,7c4.8,6.9,4.6,16.1-0.4,22.9c-5.4,7.2-14.2,9.9-23.1,6.5c-2.3-0.9-3.5-0.6-5.1,1.1\n",
       "                    c-6.7,6.9-13.6,13.7-20.5,20.4c-1.8,1.8-2.5,3.2-1.4,5.9c3.5,8.7,0.3,18.6-7.7,23.6c-7.9,5-18.2,3.8-24.8-2.9\n",
       "                    c-6.4-6.4-7.4-16.2-2.5-24.3c4.9-7.8,14.5-11,23.1-7.8c3,1.1,4.7,0.5,6.9-1.7C91.7,98.4,98,92.3,104.2,86c1.6-1.6,4.1-2.7,2.6-6.2\n",
       "                    c-1.4-3.3-3.8-2.5-6.2-2.6C99.8,77.2,98.9,77.2,97.3,77.2z M72.1,29.7c5.5,0.1,9.9-4.3,10-9.8c0-0.1,0-0.2,0-0.3\n",
       "                    C81.8,14,77,9.8,71.5,10.2c-5,0.3-9,4.2-9.3,9.2c-0.2,5.5,4,10.1,9.5,10.3C71.8,29.7,72,29.7,72.1,29.7z M72.3,62.3\n",
       "                    c-5.4-0.1-9.9,4.2-10.1,9.7c0,0.2,0,0.3,0,0.5c0.2,5.4,4.5,9.7,9.9,10c5.1,0.1,9.9-4.7,10.1-9.8c0.2-5.5-4-10-9.5-10.3\n",
       "                    C72.6,62.3,72.4,62.3,72.3,62.3z M115,72.5c0.1,5.4,4.5,9.7,9.8,9.9c5.6-0.2,10-4.8,10-10.4c-0.2-5.4-4.6-9.7-10-9.7\n",
       "                    c-5.3-0.1-9.8,4.2-9.9,9.5C115,72.1,115,72.3,115,72.5z M19.5,62.3c-5.4,0.1-9.8,4.4-10,9.8c-0.1,5.1,5.2,10.4,10.2,10.3\n",
       "                    c5.6-0.2,10-4.9,9.8-10.5c-0.1-5.4-4.5-9.7-9.9-9.6C19.6,62.3,19.5,62.3,19.5,62.3z M71.8,134.6c5.9,0.2,10.3-3.9,10.4-9.6\n",
       "                    c0.5-5.5-3.6-10.4-9.1-10.8c-5.5-0.5-10.4,3.6-10.8,9.1c0,0.5,0,0.9,0,1.4c-0.2,5.3,4,9.8,9.3,10\n",
       "                    C71.6,134.6,71.7,134.6,71.8,134.6z\"/>\n",
       "            </g>\n",
       "        </svg>\n",
       "        <table>\n",
       "            <tr>\n",
       "                <td style=\"text-align: left\"><b>Python version:</b></td>\n",
       "                <td style=\"text-align: left\"><b>3.10.4</b></td>\n",
       "            </tr>\n",
       "            <tr>\n",
       "                <td style=\"text-align: left\"><b>Ray version:</b></td>\n",
       "                <td style=\"text-align: left\"><b> 2.2.0</b></td>\n",
       "            </tr>\n",
       "            \n",
       "        </table>\n",
       "    </div>\n",
       "</div>\n"
      ],
      "text/plain": [
       "RayContext(dashboard_url='', python_version='3.10.4', ray_version='2.2.0', ray_commit='b6af0887ee5f2e460202133791ad941a41f15beb', address_info={'node_ip_address': '172.16.5.4', 'raylet_ip_address': '172.16.5.4', 'redis_address': None, 'object_store_address': '/tmp/ray/session_2022-12-14_19-23-47_278793_25229/sockets/plasma_store', 'raylet_socket_name': '/tmp/ray/session_2022-12-14_19-23-47_278793_25229/sockets/raylet', 'webui_url': '', 'session_dir': '/tmp/ray/session_2022-12-14_19-23-47_278793_25229', 'metrics_export_port': 57974, 'gcs_address': '172.16.5.4:62562', 'address': '172.16.5.4:62562', 'dashboard_agent_listen_port': 52365, 'node_id': '4a0a3a57625b65b7c79c4c83a0309336759a0497a7865c7bd3bcfac0'})"
      ]
     },
     "execution_count": 31,
     "metadata": {},
     "output_type": "execute_result"
    }
   ],
   "source": [
    "ray.init(num_cpus=32)"
   ]
  },
  {
   "cell_type": "code",
   "execution_count": 3,
   "id": "099dc93d",
   "metadata": {},
   "outputs": [
    {
     "name": "stderr",
     "output_type": "stream",
     "text": [
      "Parquet Files Sample:   0%|          | 0/2 [00:00<?, ?it/s]\n",
      "Parquet Files Sample: 100%|██████████| 2/2 [00:00<00:00,  2.77it/s]\n",
      "Read: 100%|██████████| 12/12 [00:01<00:00,  7.35it/s]\n",
      "Repartition: 100%|██████████| 10/10 [00:00<00:00, 11.60it/s]\n"
     ]
    }
   ],
   "source": [
    "ds = ray.data.read_parquet('../data/parquet/yellow_tripdata_2011-04').repartition(10)"
   ]
  },
  {
   "cell_type": "code",
   "execution_count": 38,
   "id": "8c5becb7",
   "metadata": {},
   "outputs": [],
   "source": [
    "def objective(*args):\n",
    "    ds.limit(10).show()"
   ]
  },
  {
   "cell_type": "code",
   "execution_count": 37,
   "id": "9a058196",
   "metadata": {},
   "outputs": [
    {
     "name": "stderr",
     "output_type": "stream",
     "text": [
      "2022-12-14 19:26:20,726\tWARNING callback.py:108 -- The TensorboardX logger cannot be instantiated because either TensorboardX or one of it's dependencies is not installed. Please make sure you have the latest version of TensorboardX installed: `pip install -U tensorboardx`\n"
     ]
    },
    {
     "data": {
      "text/html": [
       "<div class=\"tuneStatus\">\n",
       "  <div style=\"display: flex;flex-direction: row\">\n",
       "    <div style=\"display: flex;flex-direction: column;\">\n",
       "      <h3>Tune Status</h3>\n",
       "      <table>\n",
       "<tbody>\n",
       "<tr><td>Current time:</td><td>2022-12-14 19:26:22</td></tr>\n",
       "<tr><td>Running for: </td><td>00:00:01.63        </td></tr>\n",
       "<tr><td>Memory:      </td><td>10.1/31.4 GiB      </td></tr>\n",
       "</tbody>\n",
       "</table>\n",
       "    </div>\n",
       "    <div class=\"vDivider\"></div>\n",
       "    <div class=\"systemInfo\">\n",
       "      <h3>System Info</h3>\n",
       "      Using FIFO scheduling algorithm.<br>Resources requested: 0/32 CPUs, 0/0 GPUs, 0.0/14.88 GiB heap, 0.0/7.44 GiB objects\n",
       "    </div>\n",
       "    \n",
       "  </div>\n",
       "  <div class=\"hDivider\"></div>\n",
       "  <div class=\"trialStatus\">\n",
       "    <h3>Trial Status</h3>\n",
       "    <table>\n",
       "<thead>\n",
       "<tr><th>Trial name           </th><th>status    </th><th>loc             </th></tr>\n",
       "</thead>\n",
       "<tbody>\n",
       "<tr><td>objective_3059b_00000</td><td>TERMINATED</td><td>172.16.5.4:10495</td></tr>\n",
       "</tbody>\n",
       "</table>\n",
       "  </div>\n",
       "</div>\n",
       "<style>\n",
       ".tuneStatus {\n",
       "  color: var(--jp-ui-font-color1);\n",
       "}\n",
       ".tuneStatus .systemInfo {\n",
       "  display: flex;\n",
       "  flex-direction: column;\n",
       "}\n",
       ".tuneStatus td {\n",
       "  white-space: nowrap;\n",
       "}\n",
       ".tuneStatus .trialStatus {\n",
       "  display: flex;\n",
       "  flex-direction: column;\n",
       "}\n",
       ".tuneStatus h3 {\n",
       "  font-weight: bold;\n",
       "}\n",
       ".tuneStatus .hDivider {\n",
       "  border-bottom-width: var(--jp-border-width);\n",
       "  border-bottom-color: var(--jp-border-color0);\n",
       "  border-bottom-style: solid;\n",
       "}\n",
       ".tuneStatus .vDivider {\n",
       "  border-left-width: var(--jp-border-width);\n",
       "  border-left-color: var(--jp-border-color0);\n",
       "  border-left-style: solid;\n",
       "  margin: 0.5em 1em 0.5em 1em;\n",
       "}\n",
       "</style>\n"
      ],
      "text/plain": [
       "<IPython.core.display.HTML object>"
      ]
     },
     "metadata": {},
     "output_type": "display_data"
    },
    {
     "name": "stdout",
     "output_type": "stream",
     "text": [
      "Trial objective_3059b_00000 completed. Last result: \n"
     ]
    },
    {
     "name": "stderr",
     "output_type": "stream",
     "text": [
      "2022-12-14 19:26:22,466\tINFO tune.py:762 -- Total run time: 1.75 seconds (1.63 seconds for the tuning loop).\n"
     ]
    },
    {
     "name": "stdout",
     "output_type": "stream",
     "text": [
      "\u001b[2m\u001b[36m(objective pid=10495)\u001b[0m {'vendor_id': 'VTS', 'pickup_datetime': datetime.datetime(2011, 4, 29, 5, 50), 'dropoff_datetime': datetime.datetime(2011, 4, 29, 5, 55), 'passenger_count': 1, 'trip_distance': 2.15, 'pickup_longitude': -73.940545, 'pickup_latitude': 40.83491, 'rate_code': 1, 'store_and_fwd_flag': '', 'dropoff_longitude': -73.942723, 'dropoff_latitude': 40.811692, 'payment_type': 'CSH', 'fare_amount': 6.9, 'surcharge': 0.5, 'mta_tax': 0.5, 'tip_amount': 0.0, 'tolls_amount': 0.0, 'total_amount': 7.9}\n",
      "\u001b[2m\u001b[36m(objective pid=10495)\u001b[0m {'vendor_id': 'VTS', 'pickup_datetime': datetime.datetime(2011, 4, 25, 9, 13), 'dropoff_datetime': datetime.datetime(2011, 4, 25, 9, 25), 'passenger_count': 1, 'trip_distance': 2.39, 'pickup_longitude': -73.957882, 'pickup_latitude': 40.773793, 'rate_code': 1, 'store_and_fwd_flag': '', 'dropoff_longitude': -73.981958, 'dropoff_latitude': 40.76717, 'payment_type': 'CRD', 'fare_amount': 8.9, 'surcharge': 0.0, 'mta_tax': 0.5, 'tip_amount': 1.0, 'tolls_amount': 0.0, 'total_amount': 10.4}\n",
      "\u001b[2m\u001b[36m(objective pid=10495)\u001b[0m {'vendor_id': 'VTS', 'pickup_datetime': datetime.datetime(2011, 4, 29, 4, 1), 'dropoff_datetime': datetime.datetime(2011, 4, 29, 4, 7), 'passenger_count': 1, 'trip_distance': 1.45, 'pickup_longitude': -73.98353, 'pickup_latitude': 40.749833, 'rate_code': 1, 'store_and_fwd_flag': '', 'dropoff_longitude': -73.98707, 'dropoff_latitude': 40.763482, 'payment_type': 'CRD', 'fare_amount': 5.7, 'surcharge': 0.5, 'mta_tax': 0.5, 'tip_amount': 2.0, 'tolls_amount': 0.0, 'total_amount': 8.7}\n",
      "\u001b[2m\u001b[36m(objective pid=10495)\u001b[0m {'vendor_id': 'VTS', 'pickup_datetime': datetime.datetime(2011, 4, 29, 5, 32), 'dropoff_datetime': datetime.datetime(2011, 4, 29, 5, 44), 'passenger_count': 1, 'trip_distance': 2.36, 'pickup_longitude': -73.959042, 'pickup_latitude': 40.814887, 'rate_code': 1, 'store_and_fwd_flag': '', 'dropoff_longitude': -73.95347, 'dropoff_latitude': 40.790835, 'payment_type': 'CRD', 'fare_amount': 9.3, 'surcharge': 0.5, 'mta_tax': 0.5, 'tip_amount': 2.0, 'tolls_amount': 0.0, 'total_amount': 12.3}\n",
      "\u001b[2m\u001b[36m(objective pid=10495)\u001b[0m {'vendor_id': 'VTS', 'pickup_datetime': datetime.datetime(2011, 4, 29, 5, 5), 'dropoff_datetime': datetime.datetime(2011, 4, 29, 5, 22), 'passenger_count': 1, 'trip_distance': 6.18, 'pickup_longitude': -73.983778, 'pickup_latitude': 40.729765, 'rate_code': 1, 'store_and_fwd_flag': '', 'dropoff_longitude': -73.954515, 'dropoff_latitude': 40.8016, 'payment_type': 'CRD', 'fare_amount': 16.1, 'surcharge': 0.5, 'mta_tax': 0.5, 'tip_amount': 2.0, 'tolls_amount': 0.0, 'total_amount': 19.1}\n",
      "\u001b[2m\u001b[36m(objective pid=10495)\u001b[0m {'vendor_id': 'VTS', 'pickup_datetime': datetime.datetime(2011, 4, 29, 5, 12), 'dropoff_datetime': datetime.datetime(2011, 4, 29, 5, 17), 'passenger_count': 3, 'trip_distance': 1.39, 'pickup_longitude': -73.951015, 'pickup_latitude': 40.771722, 'rate_code': 1, 'store_and_fwd_flag': '', 'dropoff_longitude': -73.971858, 'dropoff_latitude': 40.782195, 'payment_type': 'CSH', 'fare_amount': 5.7, 'surcharge': 0.5, 'mta_tax': 0.5, 'tip_amount': 0.0, 'tolls_amount': 0.0, 'total_amount': 6.7}\n",
      "\u001b[2m\u001b[36m(objective pid=10495)\u001b[0m {'vendor_id': 'VTS', 'pickup_datetime': datetime.datetime(2011, 4, 25, 8, 50), 'dropoff_datetime': datetime.datetime(2011, 4, 25, 9, 5), 'passenger_count': 1, 'trip_distance': 2.08, 'pickup_longitude': -73.996488, 'pickup_latitude': 40.731772, 'rate_code': 1, 'store_and_fwd_flag': '', 'dropoff_longitude': -73.983257, 'dropoff_latitude': 40.756615, 'payment_type': 'CSH', 'fare_amount': 9.3, 'surcharge': 0.0, 'mta_tax': 0.5, 'tip_amount': 0.0, 'tolls_amount': 0.0, 'total_amount': 9.8}\n",
      "\u001b[2m\u001b[36m(objective pid=10495)\u001b[0m {'vendor_id': 'VTS', 'pickup_datetime': datetime.datetime(2011, 4, 28, 18, 49), 'dropoff_datetime': datetime.datetime(2011, 4, 28, 19, 1), 'passenger_count': 5, 'trip_distance': 1.29, 'pickup_longitude': -73.964642, 'pickup_latitude': 40.764835, 'rate_code': 1, 'store_and_fwd_flag': '', 'dropoff_longitude': -73.982527, 'dropoff_latitude': 40.772495, 'payment_type': 'CSH', 'fare_amount': 7.7, 'surcharge': 1.0, 'mta_tax': 0.5, 'tip_amount': 0.0, 'tolls_amount': 0.0, 'total_amount': 9.2}\n",
      "\u001b[2m\u001b[36m(objective pid=10495)\u001b[0m {'vendor_id': 'VTS', 'pickup_datetime': datetime.datetime(2011, 4, 25, 7, 4), 'dropoff_datetime': datetime.datetime(2011, 4, 25, 7, 12), 'passenger_count': 1, 'trip_distance': 3.2, 'pickup_longitude': -73.982163, 'pickup_latitude': 40.77811, 'rate_code': 1, 'store_and_fwd_flag': '', 'dropoff_longitude': -74.000053, 'dropoff_latitude': 40.738063, 'payment_type': 'CSH', 'fare_amount': 8.9, 'surcharge': 0.0, 'mta_tax': 0.5, 'tip_amount': 0.0, 'tolls_amount': 0.0, 'total_amount': 9.4}\n",
      "\u001b[2m\u001b[36m(objective pid=10495)\u001b[0m {'vendor_id': 'VTS', 'pickup_datetime': datetime.datetime(2011, 4, 28, 18, 24), 'dropoff_datetime': datetime.datetime(2011, 4, 28, 18, 32), 'passenger_count': 1, 'trip_distance': 1.02, 'pickup_longitude': -73.990372, 'pickup_latitude': 40.737793, 'rate_code': 1, 'store_and_fwd_flag': '', 'dropoff_longitude': -73.991318, 'dropoff_latitude': 40.74723, 'payment_type': 'CSH', 'fare_amount': 6.1, 'surcharge': 1.0, 'mta_tax': 0.5, 'tip_amount': 0.0, 'tolls_amount': 0.0, 'total_amount': 7.6}\n"
     ]
    },
    {
     "data": {
      "text/plain": [
       "<ray.tune.result_grid.ResultGrid at 0x7f55540ca020>"
      ]
     },
     "execution_count": 37,
     "metadata": {},
     "output_type": "execute_result"
    }
   ],
   "source": [
    "tuner = tune.Tuner(\n",
    "    tune.with_resources(objective, {\"cpu\": 1}),\n",
    "    tune_config=tune.TuneConfig(\n",
    "        num_samples=1,\n",
    "        max_concurrent_trials=32\n",
    "    )\n",
    ")\n",
    "tuner.fit()"
   ]
  },
  {
   "cell_type": "code",
   "execution_count": 4,
   "id": "9ce269b1",
   "metadata": {},
   "outputs": [],
   "source": [
    "ds = ds.lazy()"
   ]
  }
 ],
 "metadata": {
  "kernelspec": {
   "display_name": "Python 3",
   "language": "python",
   "name": "python3"
  },
  "language_info": {
   "codemirror_mode": {
    "name": "ipython",
    "version": 3
   },
   "file_extension": ".py",
   "mimetype": "text/x-python",
   "name": "python",
   "nbconvert_exporter": "python",
   "pygments_lexer": "ipython3",
   "version": "3.10.4"
  },
  "vscode": {
   "interpreter": {
    "hash": "3ad933181bd8a04b432d3370b9dc3b0662ad032c4dfaa4e4f1596c548f763858"
   }
  }
 },
 "nbformat": 4,
 "nbformat_minor": 5
}

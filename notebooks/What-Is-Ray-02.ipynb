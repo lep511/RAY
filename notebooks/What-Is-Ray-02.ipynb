{
 "cells": [
  {
   "cell_type": "markdown",
   "id": "a51140f8-8b07-4fcf-8696-117e02120d1f",
   "metadata": {},
   "source": [
    "## Bibliotecas de aprendizaje automático que utilizan Ray\n",
    "\n",
    "Ahora discutiremos varias de las librerías hechas posibles por Ray, que también fueron impulsoras para la creación de Ray. Entre ellas se incluyen Ray RLlib para el aprendizaje por refuerzo, Ray Tune para el ajuste de hiperparámetros, Ray S_GD_ para el entrenamiento distribuido de modelos TensorFlow y PyTorch, y Ray Serve para el servicio de modelos.\n",
    "\n",
    "### ¿Qué es el aprendizaje por refuerzo?\n",
    "El aprendizaje por refuerzo (RL) es un tema amplio y diverso. No podemos hacerle justicia aquí, pero podemos explorar los aspectos más destacados y ver cómo Ray RLlib permite a los profesionales del RL trabajar de manera eficiente. RLlib también es modular y flexible para ayudar a los investigadores a explorar nuevos algoritmos y técnicas de RL.\n",
    "\n",
    "<br>\n",
    "\n",
    "![Image](https://i.ibb.co/mNjCs6n/wray-0301.png)\n",
    "\n",
    "<br>\n",
    "\n",
    "Un agente realiza acciones en un entorno, intentando maximizar una recompensa acumulativa. En cada paso, el agente observa el estado actual del entorno y la recompensa recibida por la acción anterior. A continuación, el agente decide la siguiente acción a realizar.\n",
    "\n",
    "Aprender la mejor política que maximice la recompensa acumulada es la esencia de la RL. A menudo esto se hace por ensayo y error, probando episodios repetidos para determinar qué acciones son las mejores. El agente puede tener o no conocimientos previos sobre el entorno, es decir, un modelo. Por ejemplo, un entorno que representa un sistema físico podría modelarse con una simulación de la física implicada.\n",
    "\n",
    "Una consideración clave es el equilibrio entre explotación y exploración. Si el agente descubre que una determinada acción siempre le reporta una buena recompensa, es posible que desee explotarla. Sin embargo, pueden existir acciones incluso mejores que el agente aún no haya descubierto, por lo que es necesario explorar, aunque la mayoría de las acciones alternativas puedan resultar inferiores. Equilibrar este equilibrio de forma eficaz es importante.\n",
    "\n",
    "Otro reto clave es el problema de la asignación de créditos. Si estamos maximizando la recompensa acumulada, puede ser difícil saber en qué medida cada acción concreta durante un episodio largo ha contribuido a esa recompensa o la ha restado.\n",
    "\n",
    "Un entorno de ejemplo popular es CartPole, parte de OpenAI Gym, que simula un carrito moviéndose a izquierda o derecha mientras intenta mantener en equilibrio un poste vertical. CartPole puede determinarse completamente por simple física, pero utilizaremos RL para aprender a equilibrar el poste por ensayo y error, del mismo modo que un humano aprendería esta tarea."
   ]
  },
  {
   "cell_type": "markdown",
   "id": "408a27de-6ccc-4693-a2b2-980f73a4353c",
   "metadata": {},
   "source": [
    "### Introducción a Ray Train\n",
    "\n",
    "Soporte de frameworks: Train se abstrae de la complejidad de escalar el entrenamiento para los marcos de aprendizaje automático más comunes, como XGBoost, Pytorch y Tensorflow. Hay tres grandes categorías de entrenadores que Train ofrece:"
   ]
  },
  {
   "cell_type": "code",
   "execution_count": 6,
   "id": "f83ef081-736e-4677-ba49-6f21951f08dd",
   "metadata": {},
   "outputs": [],
   "source": [
    "#pip install --upgrade 'ray[rllib]'"
   ]
  },
  {
   "cell_type": "code",
   "execution_count": 7,
   "id": "a48292f9-bd73-44ea-898d-c3fb4af7f79b",
   "metadata": {},
   "outputs": [
    {
     "name": "stderr",
     "output_type": "stream",
     "text": [
      "2022-12-22 15:27:04,104\tWARNING utils.py:648 -- Ray currently does not support initializing Raywith fractional cpus. Your num_cpus will be truncated from 45.585 to 45.\n",
      "2022-12-22 15:27:04,260\tINFO worker.py:1529 -- Started a local Ray instance. View the dashboard at \u001b[1m\u001b[32mhttp://127.0.0.1:8265 \u001b[39m\u001b[22m\n"
     ]
    },
    {
     "data": {
      "text/html": [
       "<div>\n",
       "    <div style=\"margin-left: 50px;display: flex;flex-direction: row;align-items: center\">\n",
       "        <h3 style=\"color: var(--jp-ui-font-color0)\">Ray</h3>\n",
       "        <svg version=\"1.1\" id=\"ray\" width=\"3em\" viewBox=\"0 0 144.5 144.6\" style=\"margin-left: 3em;margin-right: 3em\">\n",
       "            <g id=\"layer-1\">\n",
       "                <path fill=\"#00a2e9\" class=\"st0\" d=\"M97.3,77.2c-3.8-1.1-6.2,0.9-8.3,5.1c-3.5,6.8-9.9,9.9-17.4,9.6S58,88.1,54.8,81.2c-1.4-3-3-4-6.3-4.1\n",
       "                    c-5.6-0.1-9.9,0.1-13.1,6.4c-3.8,7.6-13.6,10.2-21.8,7.6C5.2,88.4-0.4,80.5,0,71.7c0.1-8.4,5.7-15.8,13.8-18.2\n",
       "                    c8.4-2.6,17.5,0.7,22.3,8c1.3,1.9,1.3,5.2,3.6,5.6c3.9,0.6,8,0.2,12,0.2c1.8,0,1.9-1.6,2.4-2.8c3.5-7.8,9.7-11.8,18-11.9\n",
       "                    c8.2-0.1,14.4,3.9,17.8,11.4c1.3,2.8,2.9,3.6,5.7,3.3c1-0.1,2,0.1,3,0c2.8-0.5,6.4,1.7,8.1-2.7s-2.3-5.5-4.1-7.5\n",
       "                    c-5.1-5.7-10.9-10.8-16.1-16.3C84,38,81.9,37.1,78,38.3C66.7,42,56.2,35.7,53,24.1C50.3,14,57.3,2.8,67.7,0.5\n",
       "                    C78.4-2,89,4.7,91.5,15.3c0.1,0.3,0.1,0.5,0.2,0.8c0.7,3.4,0.7,6.9-0.8,9.8c-1.7,3.2-0.8,5,1.5,7.2c6.7,6.5,13.3,13,19.8,19.7\n",
       "                    c1.8,1.8,3,2.1,5.5,1.2c9.1-3.4,17.9-0.6,23.4,7c4.8,6.9,4.6,16.1-0.4,22.9c-5.4,7.2-14.2,9.9-23.1,6.5c-2.3-0.9-3.5-0.6-5.1,1.1\n",
       "                    c-6.7,6.9-13.6,13.7-20.5,20.4c-1.8,1.8-2.5,3.2-1.4,5.9c3.5,8.7,0.3,18.6-7.7,23.6c-7.9,5-18.2,3.8-24.8-2.9\n",
       "                    c-6.4-6.4-7.4-16.2-2.5-24.3c4.9-7.8,14.5-11,23.1-7.8c3,1.1,4.7,0.5,6.9-1.7C91.7,98.4,98,92.3,104.2,86c1.6-1.6,4.1-2.7,2.6-6.2\n",
       "                    c-1.4-3.3-3.8-2.5-6.2-2.6C99.8,77.2,98.9,77.2,97.3,77.2z M72.1,29.7c5.5,0.1,9.9-4.3,10-9.8c0-0.1,0-0.2,0-0.3\n",
       "                    C81.8,14,77,9.8,71.5,10.2c-5,0.3-9,4.2-9.3,9.2c-0.2,5.5,4,10.1,9.5,10.3C71.8,29.7,72,29.7,72.1,29.7z M72.3,62.3\n",
       "                    c-5.4-0.1-9.9,4.2-10.1,9.7c0,0.2,0,0.3,0,0.5c0.2,5.4,4.5,9.7,9.9,10c5.1,0.1,9.9-4.7,10.1-9.8c0.2-5.5-4-10-9.5-10.3\n",
       "                    C72.6,62.3,72.4,62.3,72.3,62.3z M115,72.5c0.1,5.4,4.5,9.7,9.8,9.9c5.6-0.2,10-4.8,10-10.4c-0.2-5.4-4.6-9.7-10-9.7\n",
       "                    c-5.3-0.1-9.8,4.2-9.9,9.5C115,72.1,115,72.3,115,72.5z M19.5,62.3c-5.4,0.1-9.8,4.4-10,9.8c-0.1,5.1,5.2,10.4,10.2,10.3\n",
       "                    c5.6-0.2,10-4.9,9.8-10.5c-0.1-5.4-4.5-9.7-9.9-9.6C19.6,62.3,19.5,62.3,19.5,62.3z M71.8,134.6c5.9,0.2,10.3-3.9,10.4-9.6\n",
       "                    c0.5-5.5-3.6-10.4-9.1-10.8c-5.5-0.5-10.4,3.6-10.8,9.1c0,0.5,0,0.9,0,1.4c-0.2,5.3,4,9.8,9.3,10\n",
       "                    C71.6,134.6,71.7,134.6,71.8,134.6z\"/>\n",
       "            </g>\n",
       "        </svg>\n",
       "        <table>\n",
       "            <tr>\n",
       "                <td style=\"text-align: left\"><b>Python version:</b></td>\n",
       "                <td style=\"text-align: left\"><b>3.8.10</b></td>\n",
       "            </tr>\n",
       "            <tr>\n",
       "                <td style=\"text-align: left\"><b>Ray version:</b></td>\n",
       "                <td style=\"text-align: left\"><b> 2.2.0</b></td>\n",
       "            </tr>\n",
       "            <tr>\n",
       "    <td style=\"text-align: left\"><b>Dashboard:</b></td>\n",
       "    <td style=\"text-align: left\"><b><a href=\"http://127.0.0.1:8265\" target=\"_blank\">http://127.0.0.1:8265</a></b></td>\n",
       "</tr>\n",
       "\n",
       "        </table>\n",
       "    </div>\n",
       "</div>\n"
      ],
      "text/plain": [
       "RayContext(dashboard_url='127.0.0.1:8265', python_version='3.8.10', ray_version='2.2.0', ray_commit='b6af0887ee5f2e460202133791ad941a41f15beb', address_info={'node_ip_address': '10.3.17.115', 'raylet_ip_address': '10.3.17.115', 'redis_address': None, 'object_store_address': '/tmp/ray/session_2022-12-22_15-27-02_244686_56640/sockets/plasma_store', 'raylet_socket_name': '/tmp/ray/session_2022-12-22_15-27-02_244686_56640/sockets/raylet', 'webui_url': '127.0.0.1:8265', 'session_dir': '/tmp/ray/session_2022-12-22_15-27-02_244686_56640', 'metrics_export_port': 64222, 'gcs_address': '10.3.17.115:65343', 'address': '10.3.17.115:65343', 'dashboard_agent_listen_port': 52365, 'node_id': '3dc43a35790f1a996f4d2a560a4f33fdb56a1593552365c5f0c730c0'})"
      ]
     },
     "execution_count": 7,
     "metadata": {},
     "output_type": "execute_result"
    }
   ],
   "source": [
    "import os\n",
    "\n",
    "import ray\n",
    "from ray.train.xgboost import XGBoostTrainer\n",
    "from ray.air.config import ScalingConfig\n",
    "import warnings\n",
    "\n",
    "# Suppress noisy requests warnings.\n",
    "warnings.filterwarnings(\"ignore\")\n",
    "os.environ[\"PYTHONWARNINGS\"] = \"ignore\"\n",
    "\n",
    "ray.init()"
   ]
  },
  {
   "cell_type": "code",
   "execution_count": 8,
   "id": "3f3d6484-b31a-4f31-b034-3d58bf6e3a07",
   "metadata": {},
   "outputs": [
    {
     "name": "stderr",
     "output_type": "stream",
     "text": [
      "2022-12-22 15:27:10,405\tWARNING read_api.py:326 -- ⚠️  The number of blocks in this dataset (1) limits its parallelism to 1 concurrent tasks. This is much less than the number of available CPU slots in the cluster. Use `.repartition(n)` to increase the number of dataset blocks.\n"
     ]
    }
   ],
   "source": [
    "# Load data.\n",
    "dataset = ray.data.read_csv(\"breast_cancer.csv\")"
   ]
  },
  {
   "cell_type": "code",
   "execution_count": 9,
   "id": "fa4d1cd1-ed77-4aa9-a913-57cf5a778c9b",
   "metadata": {},
   "outputs": [
    {
     "name": "stderr",
     "output_type": "stream",
     "text": [
      "Read progress: 100%|██████████| 1/1 [00:00<00:00, 777.15it/s]\n",
      "Read progress: 100%|██████████| 1/1 [00:00<00:00, 855.81it/s]\n"
     ]
    }
   ],
   "source": [
    "# Split data into train and validation.\n",
    "train_dataset, valid_dataset = dataset.train_test_split(test_size=0.3)"
   ]
  },
  {
   "cell_type": "markdown",
   "id": "5dd26c82-3f41-42be-b053-482bffa9dee8",
   "metadata": {},
   "source": [
    "## XGBoost"
   ]
  },
  {
   "cell_type": "code",
   "execution_count": null,
   "id": "b5b119ac-caa4-429e-9dfe-0555279ba7bd",
   "metadata": {},
   "outputs": [],
   "source": [
    "#!pip install xgboost\n",
    "#!pip install xgboost_ray"
   ]
  },
  {
   "cell_type": "code",
   "execution_count": 10,
   "id": "23b35684-36c1-482d-8b78-30a099a3ebe8",
   "metadata": {},
   "outputs": [
    {
     "data": {
      "text/html": [
       "<div class=\"tuneStatus\">\n",
       "  <div style=\"display: flex;flex-direction: row\">\n",
       "    <div style=\"display: flex;flex-direction: column;\">\n",
       "      <h3>Tune Status</h3>\n",
       "      <table>\n",
       "<tbody>\n",
       "<tr><td>Current time:</td><td>2022-12-22 15:27:49</td></tr>\n",
       "<tr><td>Running for: </td><td>00:00:06.73        </td></tr>\n",
       "<tr><td>Memory:      </td><td>6.3/102.3 GiB      </td></tr>\n",
       "</tbody>\n",
       "</table>\n",
       "    </div>\n",
       "    <div class=\"vDivider\"></div>\n",
       "    <div class=\"systemInfo\">\n",
       "      <h3>System Info</h3>\n",
       "      Using FIFO scheduling algorithm.<br>Resources requested: 0/45 CPUs, 0/0 GPUs, 0.0/55.36 GiB heap, 0.0/27.68 GiB objects\n",
       "    </div>\n",
       "    \n",
       "  </div>\n",
       "  <div class=\"hDivider\"></div>\n",
       "  <div class=\"trialStatus\">\n",
       "    <h3>Trial Status</h3>\n",
       "    <table>\n",
       "<thead>\n",
       "<tr><th>Trial name                </th><th>status    </th><th>loc              </th><th style=\"text-align: right;\">  iter</th><th style=\"text-align: right;\">  total time (s)</th><th style=\"text-align: right;\">  train-logloss</th><th style=\"text-align: right;\">  train-error</th><th style=\"text-align: right;\">  valid-logloss</th></tr>\n",
       "</thead>\n",
       "<tbody>\n",
       "<tr><td>XGBoostTrainer_2d02b_00000</td><td>TERMINATED</td><td>10.3.17.115:63032</td><td style=\"text-align: right;\">    21</td><td style=\"text-align: right;\">         5.19852</td><td style=\"text-align: right;\">      0.0184957</td><td style=\"text-align: right;\">            0</td><td style=\"text-align: right;\">      0.0893879</td></tr>\n",
       "</tbody>\n",
       "</table>\n",
       "  </div>\n",
       "</div>\n",
       "<style>\n",
       ".tuneStatus {\n",
       "  color: var(--jp-ui-font-color1);\n",
       "}\n",
       ".tuneStatus .systemInfo {\n",
       "  display: flex;\n",
       "  flex-direction: column;\n",
       "}\n",
       ".tuneStatus td {\n",
       "  white-space: nowrap;\n",
       "}\n",
       ".tuneStatus .trialStatus {\n",
       "  display: flex;\n",
       "  flex-direction: column;\n",
       "}\n",
       ".tuneStatus h3 {\n",
       "  font-weight: bold;\n",
       "}\n",
       ".tuneStatus .hDivider {\n",
       "  border-bottom-width: var(--jp-border-width);\n",
       "  border-bottom-color: var(--jp-border-color0);\n",
       "  border-bottom-style: solid;\n",
       "}\n",
       ".tuneStatus .vDivider {\n",
       "  border-left-width: var(--jp-border-width);\n",
       "  border-left-color: var(--jp-border-color0);\n",
       "  border-left-style: solid;\n",
       "  margin: 0.5em 1em 0.5em 1em;\n",
       "}\n",
       "</style>\n"
      ],
      "text/plain": [
       "<IPython.core.display.HTML object>"
      ]
     },
     "metadata": {},
     "output_type": "display_data"
    },
    {
     "name": "stderr",
     "output_type": "stream",
     "text": [
      "\u001b[2m\u001b[36m(_RemoteRayXGBoostActor pid=63447)\u001b[0m [15:27:47] task [xgboost.ray]:140157672893456 got new rank 0\n",
      "\u001b[2m\u001b[36m(_RemoteRayXGBoostActor pid=63448)\u001b[0m [15:27:47] task [xgboost.ray]:139978890763376 got new rank 1\n"
     ]
    },
    {
     "data": {
      "text/html": [
       "<div class=\"trialProgress\">\n",
       "  <h3>Trial Progress</h3>\n",
       "  <table>\n",
       "<thead>\n",
       "<tr><th>Trial name                </th><th>date               </th><th>done  </th><th>episodes_total  </th><th>experiment_id                   </th><th style=\"text-align: right;\">  experiment_tag</th><th>hostname       </th><th style=\"text-align: right;\">  iterations_since_restore</th><th>node_ip    </th><th style=\"text-align: right;\">  pid</th><th>should_checkpoint  </th><th style=\"text-align: right;\">  time_since_restore</th><th style=\"text-align: right;\">  time_this_iter_s</th><th style=\"text-align: right;\">  time_total_s</th><th style=\"text-align: right;\">  timestamp</th><th style=\"text-align: right;\">  timesteps_since_restore</th><th>timesteps_total  </th><th style=\"text-align: right;\">  train-error</th><th style=\"text-align: right;\">  train-logloss</th><th style=\"text-align: right;\">  training_iteration</th><th>trial_id   </th><th style=\"text-align: right;\">  valid-error</th><th style=\"text-align: right;\">  valid-logloss</th><th style=\"text-align: right;\">  warmup_time</th></tr>\n",
       "</thead>\n",
       "<tbody>\n",
       "<tr><td>XGBoostTrainer_2d02b_00000</td><td>2022-12-22_15-27-49</td><td>True  </td><td>                </td><td>c18e0a94714643cea2b5da56bd5cd8ef</td><td style=\"text-align: right;\">               0</td><td>lr17-1-poplar-8</td><td style=\"text-align: right;\">                        21</td><td>10.3.17.115</td><td style=\"text-align: right;\">63032</td><td>True               </td><td style=\"text-align: right;\">             5.19852</td><td style=\"text-align: right;\">          0.119546</td><td style=\"text-align: right;\">       5.19852</td><td style=\"text-align: right;\"> 1671722869</td><td style=\"text-align: right;\">                        0</td><td>                 </td><td style=\"text-align: right;\">            0</td><td style=\"text-align: right;\">      0.0184957</td><td style=\"text-align: right;\">                  21</td><td>2d02b_00000</td><td style=\"text-align: right;\">    0.0409357</td><td style=\"text-align: right;\">      0.0893879</td><td style=\"text-align: right;\">   0.00729012</td></tr>\n",
       "</tbody>\n",
       "</table>\n",
       "</div>\n",
       "<style>\n",
       ".trialProgress {\n",
       "  display: flex;\n",
       "  flex-direction: column;\n",
       "  color: var(--jp-ui-font-color1);\n",
       "}\n",
       ".trialProgress h3 {\n",
       "  font-weight: bold;\n",
       "}\n",
       ".trialProgress td {\n",
       "  white-space: nowrap;\n",
       "}\n",
       "</style>\n"
      ],
      "text/plain": [
       "<IPython.core.display.HTML object>"
      ]
     },
     "metadata": {},
     "output_type": "display_data"
    },
    {
     "name": "stderr",
     "output_type": "stream",
     "text": [
      "2022-12-22 15:27:49,251\tINFO tune.py:762 -- Total run time: 7.28 seconds (6.73 seconds for the tuning loop).\n"
     ]
    },
    {
     "name": "stdout",
     "output_type": "stream",
     "text": [
      "{'train-logloss': 0.01849572784173766, 'train-error': 0.0, 'valid-logloss': 0.08938791321002339, 'valid-error': 0.04093567251461988, 'time_this_iter_s': 0.11954593658447266, 'should_checkpoint': True, 'done': True, 'timesteps_total': None, 'episodes_total': None, 'training_iteration': 21, 'trial_id': '2d02b_00000', 'experiment_id': 'c18e0a94714643cea2b5da56bd5cd8ef', 'date': '2022-12-22_15-27-49', 'timestamp': 1671722869, 'time_total_s': 5.198515176773071, 'pid': 63032, 'hostname': 'lr17-1-poplar-8', 'node_ip': '10.3.17.115', 'config': {}, 'time_since_restore': 5.198515176773071, 'timesteps_since_restore': 0, 'iterations_since_restore': 21, 'warmup_time': 0.0072901248931884766, 'experiment_tag': '0'}\n"
     ]
    }
   ],
   "source": [
    "trainer = XGBoostTrainer(\n",
    "    scaling_config=ScalingConfig(\n",
    "        # Number of workers to use for data parallelism.\n",
    "        num_workers=2,\n",
    "        # Whether to use GPU acceleration.\n",
    "        use_gpu=False,\n",
    "    ),\n",
    "    label_column=\"target\",\n",
    "    num_boost_round=20,\n",
    "    params={\n",
    "        # XGBoost specific params\n",
    "        \"objective\": \"binary:logistic\",\n",
    "        # \"tree_method\": \"gpu_hist\",  # uncomment this to use GPU for training\n",
    "        \"eval_metric\": [\"logloss\", \"error\"],\n",
    "    },\n",
    "    datasets={\"train\": train_dataset, \"valid\": valid_dataset},\n",
    ")\n",
    "result = trainer.fit()\n",
    "print(result.metrics)"
   ]
  },
  {
   "cell_type": "markdown",
   "id": "4807a39b-8f17-4b99-b4ce-92969881118d",
   "metadata": {},
   "source": [
    "## Pytorch"
   ]
  },
  {
   "cell_type": "code",
   "execution_count": 13,
   "id": "d39d89b7-7543-4637-9738-86a89c63c77e",
   "metadata": {},
   "outputs": [],
   "source": [
    "#!pip3 install torch torchvision torchaudio --extra-index-url https://download.pytorch.org/whl/cpu # CPU installation\n",
    "#!pip3 install torch torchvision torchaudio # GPU installation"
   ]
  },
  {
   "cell_type": "code",
   "execution_count": 14,
   "id": "c053ace3-38fb-464c-8fb9-15a47484384a",
   "metadata": {},
   "outputs": [],
   "source": [
    "import torch\n",
    "import torch.nn as nn\n",
    "from ray import train\n",
    "from ray.air import session, Checkpoint\n",
    "from ray.train.torch import TorchTrainer\n",
    "from ray.air.config import ScalingConfig"
   ]
  },
  {
   "cell_type": "code",
   "execution_count": 15,
   "id": "00d7249f-8c48-4f01-a55d-00f824cc45ef",
   "metadata": {},
   "outputs": [],
   "source": [
    "input_size = 1\n",
    "layer_size = 15\n",
    "output_size = 1\n",
    "num_epochs = 3"
   ]
  },
  {
   "cell_type": "code",
   "execution_count": 16,
   "id": "22336f9b-463d-4c6a-9ccf-9d5115f08773",
   "metadata": {},
   "outputs": [],
   "source": [
    "class NeuralNetwork(nn.Module):\n",
    "    def __init__(self):\n",
    "        super(NeuralNetwork, self).__init__()\n",
    "        self.layer1 = nn.Linear(input_size, layer_size)\n",
    "        self.relu = nn.ReLU()\n",
    "        self.layer2 = nn.Linear(layer_size, output_size)\n",
    "\n",
    "    def forward(self, input):\n",
    "        return self.layer2(self.relu(self.layer1(input)))"
   ]
  },
  {
   "cell_type": "code",
   "execution_count": 17,
   "id": "b861d61e-9816-4b2b-a6ed-2eb352cb6493",
   "metadata": {},
   "outputs": [],
   "source": [
    "def train_loop_per_worker():\n",
    "    dataset_shard = session.get_dataset_shard(\"train\")\n",
    "    model = NeuralNetwork()\n",
    "    loss_fn = nn.MSELoss()\n",
    "    optimizer = torch.optim.SGD(model.parameters(), lr=0.1)\n",
    "\n",
    "    model = train.torch.prepare_model(model)\n",
    "\n",
    "    for epoch in range(num_epochs):\n",
    "        for batches in dataset_shard.iter_torch_batches(\n",
    "            batch_size=32, dtypes=torch.float\n",
    "        ):\n",
    "            inputs, labels = torch.unsqueeze(batches[\"x\"], 1), batches[\"y\"]\n",
    "            output = model(inputs)\n",
    "            loss = loss_fn(output, labels)\n",
    "            optimizer.zero_grad()\n",
    "            loss.backward()\n",
    "            optimizer.step()\n",
    "            print(f\"epoch: {epoch}, loss: {loss.item()}\")\n",
    "\n",
    "        session.report(\n",
    "            {},\n",
    "            checkpoint=Checkpoint.from_dict(\n",
    "                dict(epoch=epoch, model=model.state_dict())\n",
    "            ),\n",
    "        )"
   ]
  },
  {
   "cell_type": "code",
   "execution_count": 18,
   "id": "5abde651-c97e-4e1e-83ca-e87e3eab2cf1",
   "metadata": {},
   "outputs": [
    {
     "data": {
      "text/html": [
       "<div class=\"tuneStatus\">\n",
       "  <div style=\"display: flex;flex-direction: row\">\n",
       "    <div style=\"display: flex;flex-direction: column;\">\n",
       "      <h3>Tune Status</h3>\n",
       "      <table>\n",
       "<tbody>\n",
       "<tr><td>Current time:</td><td>2022-12-22 15:33:06</td></tr>\n",
       "<tr><td>Running for: </td><td>00:00:06.98        </td></tr>\n",
       "<tr><td>Memory:      </td><td>6.6/102.3 GiB      </td></tr>\n",
       "</tbody>\n",
       "</table>\n",
       "    </div>\n",
       "    <div class=\"vDivider\"></div>\n",
       "    <div class=\"systemInfo\">\n",
       "      <h3>System Info</h3>\n",
       "      Using FIFO scheduling algorithm.<br>Resources requested: 0/45 CPUs, 0/0 GPUs, 0.0/55.36 GiB heap, 0.0/27.68 GiB objects\n",
       "    </div>\n",
       "    \n",
       "  </div>\n",
       "  <div class=\"hDivider\"></div>\n",
       "  <div class=\"trialStatus\">\n",
       "    <h3>Trial Status</h3>\n",
       "    <table>\n",
       "<thead>\n",
       "<tr><th>Trial name              </th><th>status    </th><th>loc              </th><th style=\"text-align: right;\">  iter</th><th style=\"text-align: right;\">  total time (s)</th><th style=\"text-align: right;\">  _timestamp</th><th style=\"text-align: right;\">  _time_this_iter_s</th><th style=\"text-align: right;\">  _training_iteration</th></tr>\n",
       "</thead>\n",
       "<tbody>\n",
       "<tr><td>TorchTrainer_ea2a7_00000</td><td>TERMINATED</td><td>10.3.17.115:65474</td><td style=\"text-align: right;\">     3</td><td style=\"text-align: right;\">         2.51715</td><td style=\"text-align: right;\">  1671723183</td><td style=\"text-align: right;\">           0.122461</td><td style=\"text-align: right;\">                    3</td></tr>\n",
       "</tbody>\n",
       "</table>\n",
       "  </div>\n",
       "</div>\n",
       "<style>\n",
       ".tuneStatus {\n",
       "  color: var(--jp-ui-font-color1);\n",
       "}\n",
       ".tuneStatus .systemInfo {\n",
       "  display: flex;\n",
       "  flex-direction: column;\n",
       "}\n",
       ".tuneStatus td {\n",
       "  white-space: nowrap;\n",
       "}\n",
       ".tuneStatus .trialStatus {\n",
       "  display: flex;\n",
       "  flex-direction: column;\n",
       "}\n",
       ".tuneStatus h3 {\n",
       "  font-weight: bold;\n",
       "}\n",
       ".tuneStatus .hDivider {\n",
       "  border-bottom-width: var(--jp-border-width);\n",
       "  border-bottom-color: var(--jp-border-color0);\n",
       "  border-bottom-style: solid;\n",
       "}\n",
       ".tuneStatus .vDivider {\n",
       "  border-left-width: var(--jp-border-width);\n",
       "  border-left-color: var(--jp-border-color0);\n",
       "  border-left-style: solid;\n",
       "  margin: 0.5em 1em 0.5em 1em;\n",
       "}\n",
       "</style>\n"
      ],
      "text/plain": [
       "<IPython.core.display.HTML object>"
      ]
     },
     "metadata": {},
     "output_type": "display_data"
    },
    {
     "name": "stderr",
     "output_type": "stream",
     "text": [
      "\u001b[2m\u001b[36m(RayTrainWorker pid=65641)\u001b[0m 2022-12-22 15:33:03,485\tINFO config.py:86 -- Setting up process group for: env:// [rank=0, world_size=3]\n",
      "\u001b[2m\u001b[36m(RayTrainWorker pid=65641)\u001b[0m 2022-12-22 15:33:03,579\tINFO train_loop_utils.py:270 -- Moving model to device: cpu\n",
      "\u001b[2m\u001b[36m(RayTrainWorker pid=65641)\u001b[0m 2022-12-22 15:33:03,579\tINFO train_loop_utils.py:330 -- Wrapping provided model in DistributedDataParallel.\n"
     ]
    },
    {
     "name": "stdout",
     "output_type": "stream",
     "text": [
      "\u001b[2m\u001b[36m(RayTrainWorker pid=65642)\u001b[0m epoch: 0, loss: 47379.8671875\n",
      "\u001b[2m\u001b[36m(RayTrainWorker pid=65642)\u001b[0m epoch: 0, loss: 4.158123624995226e+16\n",
      "\u001b[2m\u001b[36m(RayTrainWorker pid=65642)\u001b[0m epoch: 0, loss: 1116853497757696.0\n",
      "\u001b[2m\u001b[36m(RayTrainWorker pid=65641)\u001b[0m epoch: 0, loss: 42690.72265625\n",
      "\u001b[2m\u001b[36m(RayTrainWorker pid=65641)\u001b[0m epoch: 0, loss: 3.0162896042328064e+16\n",
      "\u001b[2m\u001b[36m(RayTrainWorker pid=65641)\u001b[0m epoch: 0, loss: 1116846921089024.0\n",
      "\u001b[2m\u001b[36m(RayTrainWorker pid=65643)\u001b[0m epoch: 0, loss: 48171.13671875\n",
      "\u001b[2m\u001b[36m(RayTrainWorker pid=65643)\u001b[0m epoch: 0, loss: 3.940379520506266e+16\n",
      "\u001b[2m\u001b[36m(RayTrainWorker pid=65643)\u001b[0m epoch: 0, loss: 1116843565645824.0\n"
     ]
    },
    {
     "data": {
      "text/html": [
       "<div class=\"trialProgress\">\n",
       "  <h3>Trial Progress</h3>\n",
       "  <table>\n",
       "<thead>\n",
       "<tr><th>Trial name              </th><th style=\"text-align: right;\">  _time_this_iter_s</th><th style=\"text-align: right;\">  _timestamp</th><th style=\"text-align: right;\">  _training_iteration</th><th>date               </th><th>done  </th><th>episodes_total  </th><th>experiment_id                   </th><th style=\"text-align: right;\">  experiment_tag</th><th>hostname       </th><th style=\"text-align: right;\">  iterations_since_restore</th><th>node_ip    </th><th style=\"text-align: right;\">  pid</th><th>should_checkpoint  </th><th style=\"text-align: right;\">  time_since_restore</th><th style=\"text-align: right;\">  time_this_iter_s</th><th style=\"text-align: right;\">  time_total_s</th><th style=\"text-align: right;\">  timestamp</th><th style=\"text-align: right;\">  timesteps_since_restore</th><th>timesteps_total  </th><th style=\"text-align: right;\">  training_iteration</th><th>trial_id   </th><th style=\"text-align: right;\">  warmup_time</th></tr>\n",
       "</thead>\n",
       "<tbody>\n",
       "<tr><td>TorchTrainer_ea2a7_00000</td><td style=\"text-align: right;\">           0.122461</td><td style=\"text-align: right;\">  1671723183</td><td style=\"text-align: right;\">                    3</td><td>2022-12-22_15-33-04</td><td>True  </td><td>                </td><td>69281c23640a4a7f965f62b2b6d17cd0</td><td style=\"text-align: right;\">               0</td><td>lr17-1-poplar-8</td><td style=\"text-align: right;\">                         3</td><td>10.3.17.115</td><td style=\"text-align: right;\">65474</td><td>True               </td><td style=\"text-align: right;\">             2.51715</td><td style=\"text-align: right;\">          0.122184</td><td style=\"text-align: right;\">       2.51715</td><td style=\"text-align: right;\"> 1671723184</td><td style=\"text-align: right;\">                        0</td><td>                 </td><td style=\"text-align: right;\">                   3</td><td>ea2a7_00000</td><td style=\"text-align: right;\">    0.0266662</td></tr>\n",
       "</tbody>\n",
       "</table>\n",
       "</div>\n",
       "<style>\n",
       ".trialProgress {\n",
       "  display: flex;\n",
       "  flex-direction: column;\n",
       "  color: var(--jp-ui-font-color1);\n",
       "}\n",
       ".trialProgress h3 {\n",
       "  font-weight: bold;\n",
       "}\n",
       ".trialProgress td {\n",
       "  white-space: nowrap;\n",
       "}\n",
       "</style>\n"
      ],
      "text/plain": [
       "<IPython.core.display.HTML object>"
      ]
     },
     "metadata": {},
     "output_type": "display_data"
    },
    {
     "name": "stdout",
     "output_type": "stream",
     "text": [
      "\u001b[2m\u001b[36m(RayTrainWorker pid=65642)\u001b[0m epoch: 1, loss: 714780201451520.0\n",
      "\u001b[2m\u001b[36m(RayTrainWorker pid=65642)\u001b[0m epoch: 1, loss: 457460590575616.0\n",
      "\u001b[2m\u001b[36m(RayTrainWorker pid=65642)\u001b[0m epoch: 1, loss: 292778324000768.0\n",
      "\u001b[2m\u001b[36m(RayTrainWorker pid=65641)\u001b[0m epoch: 1, loss: 714779261927424.0\n",
      "\u001b[2m\u001b[36m(RayTrainWorker pid=65641)\u001b[0m epoch: 1, loss: 457459315507200.0\n",
      "\u001b[2m\u001b[36m(RayTrainWorker pid=65641)\u001b[0m epoch: 1, loss: 292774968557568.0\n",
      "\u001b[2m\u001b[36m(RayTrainWorker pid=65643)\u001b[0m epoch: 1, loss: 714780335669248.0\n",
      "\u001b[2m\u001b[36m(RayTrainWorker pid=65643)\u001b[0m epoch: 1, loss: 457460187922432.0\n",
      "\u001b[2m\u001b[36m(RayTrainWorker pid=65643)\u001b[0m epoch: 1, loss: 292773190172672.0\n",
      "\u001b[2m\u001b[36m(RayTrainWorker pid=65642)\u001b[0m epoch: 2, loss: 187374977941504.0\n",
      "\u001b[2m\u001b[36m(RayTrainWorker pid=65641)\u001b[0m epoch: 2, loss: 187374491402240.0\n",
      "\u001b[2m\u001b[36m(RayTrainWorker pid=65643)\u001b[0m epoch: 2, loss: 187375045050368.0\n",
      "\u001b[2m\u001b[36m(RayTrainWorker pid=65642)\u001b[0m epoch: 2, loss: 119920654286848.0\n",
      "\u001b[2m\u001b[36m(RayTrainWorker pid=65642)\u001b[0m epoch: 2, loss: 76751015247872.0\n",
      "\u001b[2m\u001b[36m(RayTrainWorker pid=65641)\u001b[0m epoch: 2, loss: 119919983198208.0\n",
      "\u001b[2m\u001b[36m(RayTrainWorker pid=65641)\u001b[0m epoch: 2, loss: 76749303971840.0\n",
      "\u001b[2m\u001b[36m(RayTrainWorker pid=65643)\u001b[0m epoch: 2, loss: 119920419405824.0\n",
      "\u001b[2m\u001b[36m(RayTrainWorker pid=65643)\u001b[0m epoch: 2, loss: 76748414779392.0\n"
     ]
    },
    {
     "name": "stderr",
     "output_type": "stream",
     "text": [
      "2022-12-22 15:33:06,407\tINFO tune.py:762 -- Total run time: 7.09 seconds (6.98 seconds for the tuning loop).\n"
     ]
    }
   ],
   "source": [
    "train_dataset = ray.data.from_items([{\"x\": x, \"y\": 2 * x + 1} for x in range(200)])\n",
    "scaling_config = ScalingConfig(num_workers=3)\n",
    "# If using GPUs, use the below scaling config instead.\n",
    "# scaling_config = ScalingConfig(num_workers=3, use_gpu=True)\n",
    "trainer = TorchTrainer(\n",
    "    train_loop_per_worker=train_loop_per_worker,\n",
    "    scaling_config=scaling_config,\n",
    "    datasets={\"train\": train_dataset},\n",
    ")\n",
    "result = trainer.fit()"
   ]
  },
  {
   "cell_type": "markdown",
   "id": "8b287a30-1b92-4e74-8546-c6437f094c8e",
   "metadata": {},
   "source": [
    "## Tensorflow"
   ]
  },
  {
   "cell_type": "code",
   "execution_count": null,
   "id": "efdea0e7-0ddb-4519-986b-912bb581e399",
   "metadata": {},
   "outputs": [],
   "source": [
    "#!pip install tensorflow"
   ]
  },
  {
   "cell_type": "code",
   "execution_count": 24,
   "id": "63b9e9ba-8253-42fb-937d-077dd496a1b0",
   "metadata": {},
   "outputs": [],
   "source": [
    "from ray.air import session, Checkpoint, ScalingConfig\n",
    "from ray.train.tensorflow import TensorflowTrainer\n",
    "import numpy as np"
   ]
  },
  {
   "cell_type": "code",
   "execution_count": 25,
   "id": "d4cbeab0-2688-4d05-8011-ebf6957dceb1",
   "metadata": {},
   "outputs": [
    {
     "data": {
      "text/html": [
       "<div class=\"tuneStatus\">\n",
       "  <div style=\"display: flex;flex-direction: row\">\n",
       "    <div style=\"display: flex;flex-direction: column;\">\n",
       "      <h3>Tune Status</h3>\n",
       "      <table>\n",
       "<tbody>\n",
       "<tr><td>Current time:</td><td>2022-12-22 15:37:36</td></tr>\n",
       "<tr><td>Running for: </td><td>00:00:11.68        </td></tr>\n",
       "<tr><td>Memory:      </td><td>6.9/102.3 GiB      </td></tr>\n",
       "</tbody>\n",
       "</table>\n",
       "    </div>\n",
       "    <div class=\"vDivider\"></div>\n",
       "    <div class=\"systemInfo\">\n",
       "      <h3>System Info</h3>\n",
       "      Using FIFO scheduling algorithm.<br>Resources requested: 0/45 CPUs, 0/0 GPUs, 0.0/55.36 GiB heap, 0.0/27.68 GiB objects\n",
       "    </div>\n",
       "    \n",
       "  </div>\n",
       "  <div class=\"hDivider\"></div>\n",
       "  <div class=\"trialStatus\">\n",
       "    <h3>Trial Status</h3>\n",
       "    <table>\n",
       "<thead>\n",
       "<tr><th>Trial name                   </th><th>status    </th><th>loc              </th><th style=\"text-align: right;\">  iter</th><th style=\"text-align: right;\">  total time (s)</th><th style=\"text-align: right;\">  _timestamp</th><th style=\"text-align: right;\">  _time_this_iter_s</th><th style=\"text-align: right;\">  _training_iteration</th></tr>\n",
       "</thead>\n",
       "<tbody>\n",
       "<tr><td>TensorflowTrainer_88870_00000</td><td>TERMINATED</td><td>10.3.17.115:68163</td><td style=\"text-align: right;\">     5</td><td style=\"text-align: right;\">         6.76956</td><td style=\"text-align: right;\">  1671723454</td><td style=\"text-align: right;\">           0.264796</td><td style=\"text-align: right;\">                    5</td></tr>\n",
       "</tbody>\n",
       "</table>\n",
       "  </div>\n",
       "</div>\n",
       "<style>\n",
       ".tuneStatus {\n",
       "  color: var(--jp-ui-font-color1);\n",
       "}\n",
       ".tuneStatus .systemInfo {\n",
       "  display: flex;\n",
       "  flex-direction: column;\n",
       "}\n",
       ".tuneStatus td {\n",
       "  white-space: nowrap;\n",
       "}\n",
       ".tuneStatus .trialStatus {\n",
       "  display: flex;\n",
       "  flex-direction: column;\n",
       "}\n",
       ".tuneStatus h3 {\n",
       "  font-weight: bold;\n",
       "}\n",
       ".tuneStatus .hDivider {\n",
       "  border-bottom-width: var(--jp-border-width);\n",
       "  border-bottom-color: var(--jp-border-color0);\n",
       "  border-bottom-style: solid;\n",
       "}\n",
       ".tuneStatus .vDivider {\n",
       "  border-left-width: var(--jp-border-width);\n",
       "  border-left-color: var(--jp-border-color0);\n",
       "  border-left-style: solid;\n",
       "  margin: 0.5em 1em 0.5em 1em;\n",
       "}\n",
       "</style>\n"
      ],
      "text/plain": [
       "<IPython.core.display.HTML object>"
      ]
     },
     "metadata": {},
     "output_type": "display_data"
    },
    {
     "name": "stderr",
     "output_type": "stream",
     "text": [
      "\u001b[2m\u001b[36m(pid=68163)\u001b[0m 2022-12-22 15:37:26.311475: I tensorflow/core/platform/cpu_feature_guard.cc:193] This TensorFlow binary is optimized with oneAPI Deep Neural Network Library (oneDNN) to use the following CPU instructions in performance-critical operations:  AVX2 FMA\n",
      "\u001b[2m\u001b[36m(pid=68163)\u001b[0m To enable them in other operations, rebuild TensorFlow with the appropriate compiler flags.\n",
      "\u001b[2m\u001b[36m(pid=68163)\u001b[0m 2022-12-22 15:37:26.428655: W tensorflow/compiler/xla/stream_executor/platform/default/dso_loader.cc:64] Could not load dynamic library 'libcudart.so.11.0'; dlerror: libcudart.so.11.0: cannot open shared object file: No such file or directory; LD_LIBRARY_PATH: /opt/poplar/lib:/opt/popart/lib\n",
      "\u001b[2m\u001b[36m(pid=68163)\u001b[0m 2022-12-22 15:37:26.428696: I tensorflow/compiler/xla/stream_executor/cuda/cudart_stub.cc:29] Ignore above cudart dlerror if you do not have a GPU set up on your machine.\n",
      "\u001b[2m\u001b[36m(pid=68163)\u001b[0m 2022-12-22 15:37:27.043662: W tensorflow/compiler/xla/stream_executor/platform/default/dso_loader.cc:64] Could not load dynamic library 'libnvinfer.so.7'; dlerror: libnvinfer.so.7: cannot open shared object file: No such file or directory; LD_LIBRARY_PATH: /opt/poplar/lib:/opt/popart/lib\n",
      "\u001b[2m\u001b[36m(pid=68163)\u001b[0m 2022-12-22 15:37:27.043730: W tensorflow/compiler/xla/stream_executor/platform/default/dso_loader.cc:64] Could not load dynamic library 'libnvinfer_plugin.so.7'; dlerror: libnvinfer_plugin.so.7: cannot open shared object file: No such file or directory; LD_LIBRARY_PATH: /opt/poplar/lib:/opt/popart/lib\n",
      "\u001b[2m\u001b[36m(pid=68163)\u001b[0m 2022-12-22 15:37:27.043738: W tensorflow/compiler/tf2tensorrt/utils/py_utils.cc:38] TF-TRT Warning: Cannot dlopen some TensorRT libraries. If you would like to use Nvidia GPU with TensorRT, please make sure the missing libraries mentioned above are installed properly.\n",
      "\u001b[2m\u001b[36m(RayTrainWorker pid=68334)\u001b[0m 2022-12-22 15:37:29.100372: I tensorflow/core/platform/cpu_feature_guard.cc:193] This TensorFlow binary is optimized with oneAPI Deep Neural Network Library (oneDNN) to use the following CPU instructions in performance-critical operations:  AVX2 FMA\n",
      "\u001b[2m\u001b[36m(RayTrainWorker pid=68334)\u001b[0m To enable them in other operations, rebuild TensorFlow with the appropriate compiler flags.\n",
      "\u001b[2m\u001b[36m(RayTrainWorker pid=68333)\u001b[0m 2022-12-22 15:37:29.099378: I tensorflow/core/platform/cpu_feature_guard.cc:193] This TensorFlow binary is optimized with oneAPI Deep Neural Network Library (oneDNN) to use the following CPU instructions in performance-critical operations:  AVX2 FMA\n",
      "\u001b[2m\u001b[36m(RayTrainWorker pid=68333)\u001b[0m To enable them in other operations, rebuild TensorFlow with the appropriate compiler flags.\n",
      "\u001b[2m\u001b[36m(RayTrainWorker pid=68333)\u001b[0m 2022-12-22 15:37:29.216982: W tensorflow/compiler/xla/stream_executor/platform/default/dso_loader.cc:64] Could not load dynamic library 'libcudart.so.11.0'; dlerror: libcudart.so.11.0: cannot open shared object file: No such file or directory; LD_LIBRARY_PATH: /opt/poplar/lib:/opt/popart/lib\n",
      "\u001b[2m\u001b[36m(RayTrainWorker pid=68333)\u001b[0m 2022-12-22 15:37:29.217023: I tensorflow/compiler/xla/stream_executor/cuda/cudart_stub.cc:29] Ignore above cudart dlerror if you do not have a GPU set up on your machine.\n",
      "\u001b[2m\u001b[36m(RayTrainWorker pid=68334)\u001b[0m 2022-12-22 15:37:29.231409: W tensorflow/compiler/xla/stream_executor/platform/default/dso_loader.cc:64] Could not load dynamic library 'libcudart.so.11.0'; dlerror: libcudart.so.11.0: cannot open shared object file: No such file or directory; LD_LIBRARY_PATH: /opt/poplar/lib:/opt/popart/lib\n",
      "\u001b[2m\u001b[36m(RayTrainWorker pid=68334)\u001b[0m 2022-12-22 15:37:29.231449: I tensorflow/compiler/xla/stream_executor/cuda/cudart_stub.cc:29] Ignore above cudart dlerror if you do not have a GPU set up on your machine.\n",
      "\u001b[2m\u001b[36m(RayTrainWorker pid=68334)\u001b[0m 2022-12-22 15:37:29.891102: W tensorflow/compiler/xla/stream_executor/platform/default/dso_loader.cc:64] Could not load dynamic library 'libnvinfer.so.7'; dlerror: libnvinfer.so.7: cannot open shared object file: No such file or directory; LD_LIBRARY_PATH: /opt/poplar/lib:/opt/popart/lib\n",
      "\u001b[2m\u001b[36m(RayTrainWorker pid=68334)\u001b[0m 2022-12-22 15:37:29.891171: W tensorflow/compiler/xla/stream_executor/platform/default/dso_loader.cc:64] Could not load dynamic library 'libnvinfer_plugin.so.7'; dlerror: libnvinfer_plugin.so.7: cannot open shared object file: No such file or directory; LD_LIBRARY_PATH: /opt/poplar/lib:/opt/popart/lib\n",
      "\u001b[2m\u001b[36m(RayTrainWorker pid=68334)\u001b[0m 2022-12-22 15:37:29.891179: W tensorflow/compiler/tf2tensorrt/utils/py_utils.cc:38] TF-TRT Warning: Cannot dlopen some TensorRT libraries. If you would like to use Nvidia GPU with TensorRT, please make sure the missing libraries mentioned above are installed properly.\n",
      "\u001b[2m\u001b[36m(RayTrainWorker pid=68333)\u001b[0m 2022-12-22 15:37:29.863217: W tensorflow/compiler/xla/stream_executor/platform/default/dso_loader.cc:64] Could not load dynamic library 'libnvinfer.so.7'; dlerror: libnvinfer.so.7: cannot open shared object file: No such file or directory; LD_LIBRARY_PATH: /opt/poplar/lib:/opt/popart/lib\n",
      "\u001b[2m\u001b[36m(RayTrainWorker pid=68333)\u001b[0m 2022-12-22 15:37:29.863289: W tensorflow/compiler/xla/stream_executor/platform/default/dso_loader.cc:64] Could not load dynamic library 'libnvinfer_plugin.so.7'; dlerror: libnvinfer_plugin.so.7: cannot open shared object file: No such file or directory; LD_LIBRARY_PATH: /opt/poplar/lib:/opt/popart/lib\n",
      "\u001b[2m\u001b[36m(RayTrainWorker pid=68333)\u001b[0m 2022-12-22 15:37:29.863296: W tensorflow/compiler/tf2tensorrt/utils/py_utils.cc:38] TF-TRT Warning: Cannot dlopen some TensorRT libraries. If you would like to use Nvidia GPU with TensorRT, please make sure the missing libraries mentioned above are installed properly.\n",
      "\u001b[2m\u001b[36m(RayTrainWorker pid=68334)\u001b[0m WARNING:tensorflow:From <ipython-input-25-8a45584bc8aa>:10: _CollectiveAllReduceStrategyExperimental.__init__ (from tensorflow.python.distribute.collective_all_reduce_strategy) is deprecated and will be removed in a future version.\n",
      "\u001b[2m\u001b[36m(RayTrainWorker pid=68334)\u001b[0m Instructions for updating:\n",
      "\u001b[2m\u001b[36m(RayTrainWorker pid=68334)\u001b[0m use distribute.MultiWorkerMirroredStrategy instead\n",
      "\u001b[2m\u001b[36m(RayTrainWorker pid=68334)\u001b[0m 2022-12-22 15:37:30.474614: W tensorflow/compiler/xla/stream_executor/platform/default/dso_loader.cc:64] Could not load dynamic library 'libcuda.so.1'; dlerror: libcuda.so.1: cannot open shared object file: No such file or directory; LD_LIBRARY_PATH: /opt/poplar/lib:/opt/popart/lib\n",
      "\u001b[2m\u001b[36m(RayTrainWorker pid=68334)\u001b[0m 2022-12-22 15:37:30.474646: W tensorflow/compiler/xla/stream_executor/cuda/cuda_driver.cc:265] failed call to cuInit: UNKNOWN ERROR (303)\n",
      "\u001b[2m\u001b[36m(RayTrainWorker pid=68334)\u001b[0m 2022-12-22 15:37:30.474686: I tensorflow/compiler/xla/stream_executor/cuda/cuda_diagnostics.cc:156] kernel driver does not appear to be running on this host (lr17-1-poplar-8): /proc/driver/nvidia/version does not exist\n",
      "\u001b[2m\u001b[36m(RayTrainWorker pid=68334)\u001b[0m 2022-12-22 15:37:30.475466: I tensorflow/core/platform/cpu_feature_guard.cc:193] This TensorFlow binary is optimized with oneAPI Deep Neural Network Library (oneDNN) to use the following CPU instructions in performance-critical operations:  AVX2 FMA\n",
      "\u001b[2m\u001b[36m(RayTrainWorker pid=68334)\u001b[0m To enable them in other operations, rebuild TensorFlow with the appropriate compiler flags.\n",
      "\u001b[2m\u001b[36m(RayTrainWorker pid=68334)\u001b[0m 2022-12-22 15:37:30.488178: I tensorflow/core/distributed_runtime/rpc/grpc_server_lib.cc:447] Started server with target: grpc://10.3.17.115:33561\n",
      "\u001b[2m\u001b[36m(RayTrainWorker pid=68334)\u001b[0m 2022-12-22 15:37:30.507762: I tensorflow/core/distributed_runtime/coordination/coordination_service_agent.cc:277] Coordination agent has successfully connected.\n",
      "\u001b[2m\u001b[36m(RayTrainWorker pid=68333)\u001b[0m WARNING:tensorflow:From <ipython-input-25-8a45584bc8aa>:10: _CollectiveAllReduceStrategyExperimental.__init__ (from tensorflow.python.distribute.collective_all_reduce_strategy) is deprecated and will be removed in a future version.\n",
      "\u001b[2m\u001b[36m(RayTrainWorker pid=68333)\u001b[0m Instructions for updating:\n",
      "\u001b[2m\u001b[36m(RayTrainWorker pid=68333)\u001b[0m use distribute.MultiWorkerMirroredStrategy instead\n",
      "\u001b[2m\u001b[36m(RayTrainWorker pid=68333)\u001b[0m 2022-12-22 15:37:30.474616: W tensorflow/compiler/xla/stream_executor/platform/default/dso_loader.cc:64] Could not load dynamic library 'libcuda.so.1'; dlerror: libcuda.so.1: cannot open shared object file: No such file or directory; LD_LIBRARY_PATH: /opt/poplar/lib:/opt/popart/lib\n",
      "\u001b[2m\u001b[36m(RayTrainWorker pid=68333)\u001b[0m 2022-12-22 15:37:30.474646: W tensorflow/compiler/xla/stream_executor/cuda/cuda_driver.cc:265] failed call to cuInit: UNKNOWN ERROR (303)\n",
      "\u001b[2m\u001b[36m(RayTrainWorker pid=68333)\u001b[0m 2022-12-22 15:37:30.474685: I tensorflow/compiler/xla/stream_executor/cuda/cuda_diagnostics.cc:156] kernel driver does not appear to be running on this host (lr17-1-poplar-8): /proc/driver/nvidia/version does not exist\n",
      "\u001b[2m\u001b[36m(RayTrainWorker pid=68333)\u001b[0m 2022-12-22 15:37:30.475468: I tensorflow/core/platform/cpu_feature_guard.cc:193] This TensorFlow binary is optimized with oneAPI Deep Neural Network Library (oneDNN) to use the following CPU instructions in performance-critical operations:  AVX2 FMA\n",
      "\u001b[2m\u001b[36m(RayTrainWorker pid=68333)\u001b[0m To enable them in other operations, rebuild TensorFlow with the appropriate compiler flags.\n",
      "\u001b[2m\u001b[36m(RayTrainWorker pid=68333)\u001b[0m 2022-12-22 15:37:30.488005: I tensorflow/core/distributed_runtime/rpc/grpc_server_lib.cc:447] Started server with target: grpc://10.3.17.115:49365\n",
      "\u001b[2m\u001b[36m(RayTrainWorker pid=68333)\u001b[0m 2022-12-22 15:37:30.489141: I tensorflow/core/distributed_runtime/coordination/coordination_service.cc:502] /job:worker/replica:0/task:0 has connected to coordination service. Incarnation: 3844461348461252247\n",
      "\u001b[2m\u001b[36m(RayTrainWorker pid=68333)\u001b[0m 2022-12-22 15:37:30.490684: I tensorflow/core/distributed_runtime/coordination/coordination_service_agent.cc:277] Coordination agent has successfully connected.\n",
      "\u001b[2m\u001b[36m(RayTrainWorker pid=68333)\u001b[0m 2022-12-22 15:37:30.507583: I tensorflow/core/distributed_runtime/coordination/coordination_service.cc:502] /job:worker/replica:0/task:1 has connected to coordination service. Incarnation: 14344509896659577356\n",
      "\u001b[2m\u001b[36m(RayTrainWorker pid=68334)\u001b[0m 2022-12-22 15:37:30.722542: W tensorflow/core/framework/dataset.cc:769] Input of GeneratorDatasetOp::Dataset will not be optimized because the dataset does not implement the AsGraphDefInternal() method needed to apply optimizations.\n",
      "\u001b[2m\u001b[36m(RayTrainWorker pid=68333)\u001b[0m 2022-12-22 15:37:30.721388: W tensorflow/core/framework/dataset.cc:769] Input of GeneratorDatasetOp::Dataset will not be optimized because the dataset does not implement the AsGraphDefInternal() method needed to apply optimizations.\n"
     ]
    },
    {
     "name": "stdout",
     "output_type": "stream",
     "text": [
      "5/5 [==============================] - 3s 12ms/step - loss: 1.4534 - mse: 1.4534\n",
      "5/5 [==============================] - 3s 12ms/step - loss: 1.4534 - mse: 1.4534\n"
     ]
    },
    {
     "data": {
      "text/html": [
       "<div class=\"trialProgress\">\n",
       "  <h3>Trial Progress</h3>\n",
       "  <table>\n",
       "<thead>\n",
       "<tr><th>Trial name                   </th><th style=\"text-align: right;\">  _time_this_iter_s</th><th style=\"text-align: right;\">  _timestamp</th><th style=\"text-align: right;\">  _training_iteration</th><th>date               </th><th>done  </th><th>episodes_total  </th><th>experiment_id                   </th><th style=\"text-align: right;\">  experiment_tag</th><th>hostname       </th><th style=\"text-align: right;\">  iterations_since_restore</th><th>node_ip    </th><th style=\"text-align: right;\">  pid</th><th>should_checkpoint  </th><th style=\"text-align: right;\">  time_since_restore</th><th style=\"text-align: right;\">  time_this_iter_s</th><th style=\"text-align: right;\">  time_total_s</th><th style=\"text-align: right;\">  timestamp</th><th style=\"text-align: right;\">  timesteps_since_restore</th><th>timesteps_total  </th><th style=\"text-align: right;\">  training_iteration</th><th style=\"text-align: right;\">   trial_id</th><th style=\"text-align: right;\">  warmup_time</th></tr>\n",
       "</thead>\n",
       "<tbody>\n",
       "<tr><td>TensorflowTrainer_88870_00000</td><td style=\"text-align: right;\">           0.264796</td><td style=\"text-align: right;\">  1671723454</td><td style=\"text-align: right;\">                    5</td><td>2022-12-22_15-37-34</td><td>True  </td><td>                </td><td>6510be2d03164196af4a2e2f4ac51f92</td><td style=\"text-align: right;\">               0</td><td>lr17-1-poplar-8</td><td style=\"text-align: right;\">                         5</td><td>10.3.17.115</td><td style=\"text-align: right;\">68163</td><td>True               </td><td style=\"text-align: right;\">             6.76956</td><td style=\"text-align: right;\">          0.263286</td><td style=\"text-align: right;\">       6.76956</td><td style=\"text-align: right;\"> 1671723454</td><td style=\"text-align: right;\">                        0</td><td>                 </td><td style=\"text-align: right;\">                   5</td><td style=\"text-align: right;\">88870_00000</td><td style=\"text-align: right;\">   0.00570345</td></tr>\n",
       "</tbody>\n",
       "</table>\n",
       "</div>\n",
       "<style>\n",
       ".trialProgress {\n",
       "  display: flex;\n",
       "  flex-direction: column;\n",
       "  color: var(--jp-ui-font-color1);\n",
       "}\n",
       ".trialProgress h3 {\n",
       "  font-weight: bold;\n",
       "}\n",
       ".trialProgress td {\n",
       "  white-space: nowrap;\n",
       "}\n",
       "</style>\n"
      ],
      "text/plain": [
       "<IPython.core.display.HTML object>"
      ]
     },
     "metadata": {},
     "output_type": "display_data"
    },
    {
     "name": "stdout",
     "output_type": "stream",
     "text": [
      "5/5 [==============================] - 0s 10ms/step - loss: 1.5480 - mse: 1.5480\n",
      "5/5 [==============================] - 0s 10ms/step - loss: 1.5480 - mse: 1.5480\n",
      "1/5 [=====>........................] - ETA: 0s - loss: 2.5980 - mse: 2.5980\n",
      "1/5 [=====>........................] - ETA: 0s - loss: 2.5980 - mse: 2.5980\n",
      "5/5 [==============================] - 0s 10ms/step - loss: 1.4728 - mse: 1.4728\n",
      "5/5 [==============================] - 0s 10ms/step - loss: 1.4728 - mse: 1.4728\n",
      "5/5 [==============================] - 0s 10ms/step - loss: 1.3554 - mse: 1.3554\n",
      "5/5 [==============================] - 0s 9ms/step - loss: 1.3554 - mse: 1.3554\n",
      "5/5 [==============================] - 0s 10ms/step - loss: 1.6813 - mse: 1.6813\n",
      "5/5 [==============================] - 0s 11ms/step - loss: 1.6813 - mse: 1.6813\n"
     ]
    },
    {
     "name": "stderr",
     "output_type": "stream",
     "text": [
      "2022-12-22 15:37:36,792\tINFO tune.py:762 -- Total run time: 11.79 seconds (11.67 seconds for the tuning loop).\n"
     ]
    }
   ],
   "source": [
    "def train_func(config):\n",
    "    import tensorflow as tf\n",
    "    n = 100\n",
    "    # create a toy dataset\n",
    "    # data   : X - dim = (n, 4)\n",
    "    # target : Y - dim = (n, 1)\n",
    "    X = np.random.normal(0, 1, size=(n, 4))\n",
    "    Y = np.random.uniform(0, 1, size=(n, 1))\n",
    "\n",
    "    strategy = tf.distribute.experimental.MultiWorkerMirroredStrategy()\n",
    "    with strategy.scope():\n",
    "        # toy neural network : 1-layer\n",
    "        model = tf.keras.Sequential([tf.keras.layers.Dense(1, activation=\"linear\", input_shape=(4,))])\n",
    "        model.compile(optimizer=\"Adam\", loss=\"mean_squared_error\", metrics=[\"mse\"])\n",
    "\n",
    "    for epoch in range(config[\"num_epochs\"]):\n",
    "        model.fit(X, Y, batch_size=20)\n",
    "        checkpoint = Checkpoint.from_dict(\n",
    "            dict(epoch=epoch, model_weights=model.get_weights())\n",
    "        )\n",
    "        session.report({}, checkpoint=checkpoint)\n",
    "\n",
    "trainer = TensorflowTrainer(\n",
    "    train_func,\n",
    "    train_loop_config={\"num_epochs\": 5},\n",
    "    scaling_config=ScalingConfig(num_workers=2),\n",
    ")\n",
    "result = trainer.fit()"
   ]
  }
 ],
 "metadata": {
  "kernelspec": {
   "display_name": "Python 3",
   "language": "python",
   "name": "python3"
  },
  "language_info": {
   "codemirror_mode": {
    "name": "ipython",
    "version": 3
   },
   "file_extension": ".py",
   "mimetype": "text/x-python",
   "name": "python",
   "nbconvert_exporter": "python",
   "pygments_lexer": "ipython3",
   "version": "3.8.10"
  }
 },
 "nbformat": 4,
 "nbformat_minor": 5
}
